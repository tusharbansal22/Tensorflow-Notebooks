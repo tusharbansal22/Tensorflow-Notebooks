{
  "nbformat": 4,
  "nbformat_minor": 0,
  "metadata": {
    "colab": {
      "provenance": [],
      "authorship_tag": "ABX9TyO2EpeWHUGar89sYLB0vZP0",
      "include_colab_link": true
    },
    "kernelspec": {
      "name": "python3",
      "display_name": "Python 3"
    },
    "language_info": {
      "name": "python"
    }
  },
  "cells": [
    {
      "cell_type": "markdown",
      "metadata": {
        "id": "view-in-github",
        "colab_type": "text"
      },
      "source": [
        "<a href=\"https://colab.research.google.com/github/tusharbansal22/Tensorflow-Notebooks/blob/main/Simple_RNN_sine.ipynb\" target=\"_parent\"><img src=\"https://colab.research.google.com/assets/colab-badge.svg\" alt=\"Open In Colab\"/></a>"
      ]
    },
    {
      "cell_type": "code",
      "execution_count": 44,
      "metadata": {
        "colab": {
          "base_uri": "https://localhost:8080/"
        },
        "id": "Eq6FEdXP6zs_",
        "outputId": "47e61f34-d0f3-4193-bfd5-5031fb64fe26"
      },
      "outputs": [
        {
          "output_type": "stream",
          "name": "stdout",
          "text": [
            "2.9.2\n"
          ]
        }
      ],
      "source": [
        "import tensorflow as tf\n",
        "print(tf.__version__)"
      ]
    },
    {
      "cell_type": "code",
      "source": [
        "from tensorflow.keras.layers import Input, SimpleRNN, Dense,Flatten\n",
        "from tensorflow.keras.models import Model\n",
        "from tensorflow.keras.optimizers import SGD, Adam\n",
        "\n",
        "import numpy as np\n",
        "import pandas as pd\n",
        "import matplotlib.pyplot as plt"
      ],
      "metadata": {
        "id": "m2GD_NI066e1"
      },
      "execution_count": 45,
      "outputs": []
    },
    {
      "cell_type": "code",
      "source": [
        "series = np.sin(0.1*np.arange(200)) + np.random.randn(200)*0.1\n",
        "\n",
        "plt.plot(series)\n",
        "plt.show()"
      ],
      "metadata": {
        "colab": {
          "base_uri": "https://localhost:8080/",
          "height": 265
        },
        "id": "8uQIqBZg7TEk",
        "outputId": "51d0f9a3-004e-45a0-d9f1-c057ead81399"
      },
      "execution_count": 46,
      "outputs": [
        {
          "output_type": "display_data",
          "data": {
            "text/plain": [
              "<Figure size 432x288 with 1 Axes>"
            ],
            "image/png": "[encoded data removed]"
          },
          "metadata": {
            "needs_background": "light"
          }
        }
      ]
    },
    {
      "cell_type": "code",
      "source": [
        "T=10\n",
        "D=1\n",
        "X=[]\n",
        "Y=[]\n",
        "for t in range(len(series)-T):\n",
        "  x=series[t:t+T]\n",
        "  X.append(x)\n",
        "  y=series[t+T]\n",
        "  Y.append(y)\n",
        "\n",
        "X=np.array(X).reshape(-1,T,1)\n",
        "Y=np.array(Y)\n",
        "N=len(X)\n",
        "print(\"X.shape: \",X.shape, \" Y.shape \",Y.shape)"
      ],
      "metadata": {
        "colab": {
          "base_uri": "https://localhost:8080/"
        },
        "id": "nSb3ozUA7xUZ",
        "outputId": "3dc67362-8d7f-4f07-efa1-94a7f2e5f4f7"
      },
      "execution_count": 47,
      "outputs": [
        {
          "output_type": "stream",
          "name": "stdout",
          "text": [
            "X.shape:  (190, 10, 1)  Y.shape  (190,)\n"
          ]
        }
      ]
    },
    {
      "cell_type": "code",
      "source": [
        "i=Input(shape=(T,1))\n",
        "x=SimpleRNN(5, activation='relu')(i)\n",
        "x=Dense(1)(x)\n",
        "model=Model(i,x)\n",
        "model.compile(loss='mse',optimizer=Adam(lr=0.1))\n",
        "\n",
        "r=model.fit(X[:N//2],Y[:-N//2],epochs=80,validation_data=(X[-N//2:],Y[-N//2:]))"
      ],
      "metadata": {
        "colab": {
          "base_uri": "https://localhost:8080/"
        },
        "id": "RkR4xOdt8kf8",
        "outputId": "343d2e62-d372-4a40-d8cc-aa75d4947299"
      },
      "execution_count": 48,
      "outputs": [
        {
          "output_type": "stream",
          "name": "stdout",
          "text": [
            "Epoch 1/80\n"
          ]
        },
        {
          "output_type": "stream",
          "name": "stderr",
          "text": [
            "/usr/local/lib/python3.8/dist-packages/keras/optimizers/optimizer_v2/adam.py:110: UserWarning: The `lr` argument is deprecated, use `learning_rate` instead.\n",
            "  super(Adam, self).__init__(name, **kwargs)\n"
          ]
        },
        {
          "output_type": "stream",
          "name": "stdout",
          "text": [
            "3/3 [==============================] - 1s 129ms/step - loss: 0.4566 - val_loss: 0.1898\n",
            "Epoch 2/80\n",
            "3/3 [==============================] - 0s 17ms/step - loss: 0.1330 - val_loss: 0.0658\n",
            "Epoch 3/80\n",
            "3/3 [==============================] - 0s 17ms/step - loss: 0.0779 - val_loss: 0.1038\n",
            "Epoch 4/80\n",
            "3/3 [==============================] - 0s 29ms/step - loss: 0.1114 - val_loss: 0.0967\n",
            "Epoch 5/80\n",
            "3/3 [==============================] - 0s 19ms/step - loss: 0.0956 - val_loss: 0.0539\n",
            "Epoch 6/80\n",
            "3/3 [==============================] - 0s 17ms/step - loss: 0.0502 - val_loss: 0.0336\n",
            "Epoch 7/80\n",
            "3/3 [==============================] - 0s 16ms/step - loss: 0.0375 - val_loss: 0.0561\n",
            "Epoch 8/80\n",
            "3/3 [==============================] - 0s 17ms/step - loss: 0.0543 - val_loss: 0.0475\n",
            "Epoch 9/80\n",
            "3/3 [==============================] - 0s 24ms/step - loss: 0.0388 - val_loss: 0.0346\n",
            "Epoch 10/80\n",
            "3/3 [==============================] - 0s 19ms/step - loss: 0.0313 - val_loss: 0.0358\n",
            "Epoch 11/80\n",
            "3/3 [==============================] - 0s 18ms/step - loss: 0.0359 - val_loss: 0.0342\n",
            "Epoch 12/80\n",
            "3/3 [==============================] - 0s 24ms/step - loss: 0.0333 - val_loss: 0.0300\n",
            "Epoch 13/80\n",
            "3/3 [==============================] - 0s 17ms/step - loss: 0.0282 - val_loss: 0.0282\n",
            "Epoch 14/80\n",
            "3/3 [==============================] - 0s 18ms/step - loss: 0.0291 - val_loss: 0.0295\n",
            "Epoch 15/80\n",
            "3/3 [==============================] - 0s 19ms/step - loss: 0.0288 - val_loss: 0.0324\n",
            "Epoch 16/80\n",
            "3/3 [==============================] - 0s 25ms/step - loss: 0.0274 - val_loss: 0.0289\n",
            "Epoch 17/80\n",
            "3/3 [==============================] - 0s 19ms/step - loss: 0.0253 - val_loss: 0.0266\n",
            "Epoch 18/80\n",
            "3/3 [==============================] - 0s 25ms/step - loss: 0.0259 - val_loss: 0.0264\n",
            "Epoch 19/80\n",
            "3/3 [==============================] - 0s 27ms/step - loss: 0.0245 - val_loss: 0.0270\n",
            "Epoch 20/80\n",
            "3/3 [==============================] - 0s 29ms/step - loss: 0.0243 - val_loss: 0.0292\n",
            "Epoch 21/80\n",
            "3/3 [==============================] - 0s 20ms/step - loss: 0.0240 - val_loss: 0.0271\n",
            "Epoch 22/80\n",
            "3/3 [==============================] - 0s 17ms/step - loss: 0.0232 - val_loss: 0.0255\n",
            "Epoch 23/80\n",
            "3/3 [==============================] - 0s 19ms/step - loss: 0.0229 - val_loss: 0.0257\n",
            "Epoch 24/80\n",
            "3/3 [==============================] - 0s 26ms/step - loss: 0.0228 - val_loss: 0.0259\n",
            "Epoch 25/80\n",
            "3/3 [==============================] - 0s 18ms/step - loss: 0.0225 - val_loss: 0.0255\n",
            "Epoch 26/80\n",
            "3/3 [==============================] - 0s 17ms/step - loss: 0.0225 - val_loss: 0.0255\n",
            "Epoch 27/80\n",
            "3/3 [==============================] - 0s 17ms/step - loss: 0.0221 - val_loss: 0.0260\n",
            "Epoch 28/80\n",
            "3/3 [==============================] - 0s 25ms/step - loss: 0.0221 - val_loss: 0.0254\n",
            "Epoch 29/80\n",
            "3/3 [==============================] - 0s 17ms/step - loss: 0.0222 - val_loss: 0.0242\n",
            "Epoch 30/80\n",
            "3/3 [==============================] - 0s 24ms/step - loss: 0.0219 - val_loss: 0.0239\n",
            "Epoch 31/80\n",
            "3/3 [==============================] - 0s 24ms/step - loss: 0.0219 - val_loss: 0.0265\n",
            "Epoch 32/80\n",
            "3/3 [==============================] - 0s 18ms/step - loss: 0.0220 - val_loss: 0.0252\n",
            "Epoch 33/80\n",
            "3/3 [==============================] - 0s 17ms/step - loss: 0.0227 - val_loss: 0.0238\n",
            "Epoch 34/80\n",
            "3/3 [==============================] - 0s 20ms/step - loss: 0.0216 - val_loss: 0.0254\n",
            "Epoch 35/80\n",
            "3/3 [==============================] - 0s 16ms/step - loss: 0.0219 - val_loss: 0.0253\n",
            "Epoch 36/80\n",
            "3/3 [==============================] - 0s 22ms/step - loss: 0.0212 - val_loss: 0.0233\n",
            "Epoch 37/80\n",
            "3/3 [==============================] - 0s 18ms/step - loss: 0.0217 - val_loss: 0.0235\n",
            "Epoch 38/80\n",
            "3/3 [==============================] - 0s 27ms/step - loss: 0.0214 - val_loss: 0.0248\n",
            "Epoch 39/80\n",
            "3/3 [==============================] - 0s 21ms/step - loss: 0.0215 - val_loss: 0.0234\n",
            "Epoch 40/80\n",
            "3/3 [==============================] - 0s 25ms/step - loss: 0.0231 - val_loss: 0.0233\n",
            "Epoch 41/80\n",
            "3/3 [==============================] - 0s 25ms/step - loss: 0.0213 - val_loss: 0.0268\n",
            "Epoch 42/80\n",
            "3/3 [==============================] - 0s 28ms/step - loss: 0.0222 - val_loss: 0.0233\n",
            "Epoch 43/80\n",
            "3/3 [==============================] - 0s 18ms/step - loss: 0.0209 - val_loss: 0.0232\n",
            "Epoch 44/80\n",
            "3/3 [==============================] - 0s 26ms/step - loss: 0.0212 - val_loss: 0.0236\n",
            "Epoch 45/80\n",
            "3/3 [==============================] - 0s 17ms/step - loss: 0.0210 - val_loss: 0.0240\n",
            "Epoch 46/80\n",
            "3/3 [==============================] - 0s 25ms/step - loss: 0.0209 - val_loss: 0.0234\n",
            "Epoch 47/80\n",
            "3/3 [==============================] - 0s 26ms/step - loss: 0.0209 - val_loss: 0.0233\n",
            "Epoch 48/80\n",
            "3/3 [==============================] - 0s 21ms/step - loss: 0.0211 - val_loss: 0.0255\n",
            "Epoch 49/80\n",
            "3/3 [==============================] - 0s 17ms/step - loss: 0.0217 - val_loss: 0.0234\n",
            "Epoch 50/80\n",
            "3/3 [==============================] - 0s 17ms/step - loss: 0.0209 - val_loss: 0.0230\n",
            "Epoch 51/80\n",
            "3/3 [==============================] - 0s 25ms/step - loss: 0.0209 - val_loss: 0.0240\n",
            "Epoch 52/80\n",
            "3/3 [==============================] - 0s 25ms/step - loss: 0.0214 - val_loss: 0.0241\n",
            "Epoch 53/80\n",
            "3/3 [==============================] - 0s 18ms/step - loss: 0.0214 - val_loss: 0.0239\n",
            "Epoch 54/80\n",
            "3/3 [==============================] - 0s 17ms/step - loss: 0.0210 - val_loss: 0.0227\n",
            "Epoch 55/80\n",
            "3/3 [==============================] - 0s 25ms/step - loss: 0.0210 - val_loss: 0.0237\n",
            "Epoch 56/80\n",
            "3/3 [==============================] - 0s 17ms/step - loss: 0.0231 - val_loss: 0.0252\n",
            "Epoch 57/80\n",
            "3/3 [==============================] - 0s 30ms/step - loss: 0.0222 - val_loss: 0.0271\n",
            "Epoch 58/80\n",
            "3/3 [==============================] - 0s 19ms/step - loss: 0.0240 - val_loss: 0.0234\n",
            "Epoch 59/80\n",
            "3/3 [==============================] - 0s 22ms/step - loss: 0.0219 - val_loss: 0.0278\n",
            "Epoch 60/80\n",
            "3/3 [==============================] - 0s 17ms/step - loss: 0.0241 - val_loss: 0.0276\n",
            "Epoch 61/80\n",
            "3/3 [==============================] - 0s 25ms/step - loss: 0.0226 - val_loss: 0.0240\n",
            "Epoch 62/80\n",
            "3/3 [==============================] - 0s 17ms/step - loss: 0.0218 - val_loss: 0.0229\n",
            "Epoch 63/80\n",
            "3/3 [==============================] - 0s 24ms/step - loss: 0.0226 - val_loss: 0.0275\n",
            "Epoch 64/80\n",
            "3/3 [==============================] - 0s 25ms/step - loss: 0.0224 - val_loss: 0.0264\n",
            "Epoch 65/80\n",
            "3/3 [==============================] - 0s 17ms/step - loss: 0.0235 - val_loss: 0.0237\n",
            "Epoch 66/80\n",
            "3/3 [==============================] - 0s 25ms/step - loss: 0.0222 - val_loss: 0.0251\n",
            "Epoch 67/80\n",
            "3/3 [==============================] - 0s 17ms/step - loss: 0.0236 - val_loss: 0.0238\n",
            "Epoch 68/80\n",
            "3/3 [==============================] - 0s 19ms/step - loss: 0.0206 - val_loss: 0.0240\n",
            "Epoch 69/80\n",
            "3/3 [==============================] - 0s 17ms/step - loss: 0.0219 - val_loss: 0.0243\n",
            "Epoch 70/80\n",
            "3/3 [==============================] - 0s 17ms/step - loss: 0.0207 - val_loss: 0.0241\n",
            "Epoch 71/80\n",
            "3/3 [==============================] - 0s 16ms/step - loss: 0.0218 - val_loss: 0.0230\n",
            "Epoch 72/80\n",
            "3/3 [==============================] - 0s 16ms/step - loss: 0.0211 - val_loss: 0.0250\n",
            "Epoch 73/80\n",
            "3/3 [==============================] - 0s 18ms/step - loss: 0.0218 - val_loss: 0.0253\n",
            "Epoch 74/80\n",
            "3/3 [==============================] - 0s 18ms/step - loss: 0.0215 - val_loss: 0.0238\n",
            "Epoch 75/80\n",
            "3/3 [==============================] - 0s 17ms/step - loss: 0.0207 - val_loss: 0.0236\n",
            "Epoch 76/80\n",
            "3/3 [==============================] - 0s 23ms/step - loss: 0.0213 - val_loss: 0.0236\n",
            "Epoch 77/80\n",
            "3/3 [==============================] - 0s 17ms/step - loss: 0.0220 - val_loss: 0.0235\n",
            "Epoch 78/80\n",
            "3/3 [==============================] - 0s 26ms/step - loss: 0.0208 - val_loss: 0.0261\n",
            "Epoch 79/80\n",
            "3/3 [==============================] - 0s 19ms/step - loss: 0.0212 - val_loss: 0.0235\n",
            "Epoch 80/80\n",
            "3/3 [==============================] - 0s 24ms/step - loss: 0.0226 - val_loss: 0.0247\n"
          ]
        }
      ]
    },
    {
      "cell_type": "code",
      "source": [
        "plt.plot(r.history['loss'],label='loss')\n",
        "plt.plot(r.history['val_loss'],label='val_loss')\n",
        "plt.legend()"
      ],
      "metadata": {
        "colab": {
          "base_uri": "https://localhost:8080/",
          "height": 283
        },
        "id": "YAZ4VmqR9R3d",
        "outputId": "6eabec77-f874-4a57-fbf0-ed3fe55bd386"
      },
      "execution_count": 49,
      "outputs": [
        {
          "output_type": "execute_result",
          "data": {
            "text/plain": [
              "<matplotlib.legend.Legend at 0x7f44f9645a60>"
            ]
          },
          "metadata": {},
          "execution_count": 49
        },
        {
          "output_type": "display_data",
          "data": {
            "text/plain": [
              "<Figure size 432x288 with 1 Axes>"
            ],
            "image/png": "[encoded data removed]"
          },
          "metadata": {
            "needs_background": "light"
          }
        }
      ]
    },
    {
      "cell_type": "code",
      "source": [
        "validation_target= Y[-N//2:]\n",
        "validation_predictions=[]\n",
        "\n",
        "i=-N//2\n",
        "\n",
        "while(len(validation_predictions)<len(validation_target)):\n",
        "  p=model.predict(X[i].reshape(1,-1,1))[0,0]\n",
        "  i+=1\n",
        "  validation_predictions.append(p)"
      ],
      "metadata": {
        "colab": {
          "base_uri": "https://localhost:8080/"
        },
        "id": "rhX_qeIT95wn",
        "outputId": "008ec312-2f80-4c66-f922-2d60ce3e7c50"
      },
      "execution_count": 50,
      "outputs": [
        {
          "output_type": "stream",
          "name": "stdout",
          "text": [
            "1/1 [==============================] - 0s 151ms/step\n",
            "1/1 [==============================] - 0s 17ms/step\n",
            "1/1 [==============================] - 0s 19ms/step\n",
            "1/1 [==============================] - 0s 18ms/step\n",
            "1/1 [==============================] - 0s 19ms/step\n",
            "1/1 [==============================] - 0s 18ms/step\n",
            "1/1 [==============================] - 0s 18ms/step\n",
            "1/1 [==============================] - 0s 24ms/step\n",
            "1/1 [==============================] - 0s 18ms/step\n",
            "1/1 [==============================] - 0s 22ms/step\n",
            "1/1 [==============================] - 0s 20ms/step\n",
            "1/1 [==============================] - 0s 20ms/step\n",
            "1/1 [==============================] - 0s 21ms/step\n",
            "1/1 [==============================] - 0s 19ms/step\n",
            "1/1 [==============================] - 0s 28ms/step\n",
            "1/1 [==============================] - 0s 18ms/step\n",
            "1/1 [==============================] - 0s 19ms/step\n",
            "1/1 [==============================] - 0s 18ms/step\n",
            "1/1 [==============================] - 0s 18ms/step\n",
            "1/1 [==============================] - 0s 19ms/step\n",
            "1/1 [==============================] - 0s 19ms/step\n",
            "1/1 [==============================] - 0s 21ms/step\n",
            "1/1 [==============================] - 0s 19ms/step\n",
            "1/1 [==============================] - 0s 20ms/step\n",
            "1/1 [==============================] - 0s 23ms/step\n",
            "1/1 [==============================] - 0s 19ms/step\n",
            "1/1 [==============================] - 0s 21ms/step\n",
            "1/1 [==============================] - 0s 20ms/step\n",
            "1/1 [==============================] - 0s 19ms/step\n",
            "1/1 [==============================] - 0s 22ms/step\n",
            "1/1 [==============================] - 0s 24ms/step\n",
            "1/1 [==============================] - 0s 20ms/step\n",
            "1/1 [==============================] - 0s 18ms/step\n",
            "1/1 [==============================] - 0s 20ms/step\n",
            "1/1 [==============================] - 0s 20ms/step\n",
            "1/1 [==============================] - 0s 53ms/step\n",
            "1/1 [==============================] - 0s 23ms/step\n",
            "1/1 [==============================] - 0s 18ms/step\n",
            "1/1 [==============================] - 0s 19ms/step\n",
            "1/1 [==============================] - 0s 20ms/step\n",
            "1/1 [==============================] - 0s 23ms/step\n",
            "1/1 [==============================] - 0s 19ms/step\n",
            "1/1 [==============================] - 0s 19ms/step\n",
            "1/1 [==============================] - 0s 19ms/step\n",
            "1/1 [==============================] - 0s 19ms/step\n",
            "1/1 [==============================] - 0s 18ms/step\n",
            "1/1 [==============================] - 0s 19ms/step\n",
            "1/1 [==============================] - 0s 18ms/step\n",
            "1/1 [==============================] - 0s 19ms/step\n",
            "1/1 [==============================] - 0s 18ms/step\n",
            "1/1 [==============================] - 0s 21ms/step\n",
            "1/1 [==============================] - 0s 24ms/step\n",
            "1/1 [==============================] - 0s 20ms/step\n",
            "1/1 [==============================] - 0s 19ms/step\n",
            "1/1 [==============================] - 0s 19ms/step\n",
            "1/1 [==============================] - 0s 20ms/step\n",
            "1/1 [==============================] - 0s 25ms/step\n",
            "1/1 [==============================] - 0s 23ms/step\n",
            "1/1 [==============================] - 0s 21ms/step\n",
            "1/1 [==============================] - 0s 22ms/step\n",
            "1/1 [==============================] - 0s 20ms/step\n",
            "1/1 [==============================] - 0s 26ms/step\n",
            "1/1 [==============================] - 0s 21ms/step\n",
            "1/1 [==============================] - 0s 27ms/step\n",
            "1/1 [==============================] - 0s 20ms/step\n",
            "1/1 [==============================] - 0s 26ms/step\n",
            "1/1 [==============================] - 0s 20ms/step\n",
            "1/1 [==============================] - 0s 19ms/step\n",
            "1/1 [==============================] - 0s 20ms/step\n",
            "1/1 [==============================] - 0s 20ms/step\n",
            "1/1 [==============================] - 0s 21ms/step\n",
            "1/1 [==============================] - 0s 20ms/step\n",
            "1/1 [==============================] - 0s 20ms/step\n",
            "1/1 [==============================] - 0s 20ms/step\n",
            "1/1 [==============================] - 0s 20ms/step\n",
            "1/1 [==============================] - 0s 18ms/step\n",
            "1/1 [==============================] - 0s 19ms/step\n",
            "1/1 [==============================] - 0s 22ms/step\n",
            "1/1 [==============================] - 0s 19ms/step\n",
            "1/1 [==============================] - 0s 24ms/step\n",
            "1/1 [==============================] - 0s 19ms/step\n",
            "1/1 [==============================] - 0s 18ms/step\n",
            "1/1 [==============================] - 0s 19ms/step\n",
            "1/1 [==============================] - 0s 19ms/step\n",
            "1/1 [==============================] - 0s 20ms/step\n",
            "1/1 [==============================] - 0s 24ms/step\n",
            "1/1 [==============================] - 0s 23ms/step\n",
            "1/1 [==============================] - 0s 28ms/step\n",
            "1/1 [==============================] - 0s 19ms/step\n",
            "1/1 [==============================] - 0s 19ms/step\n",
            "1/1 [==============================] - 0s 21ms/step\n",
            "1/1 [==============================] - 0s 20ms/step\n",
            "1/1 [==============================] - 0s 19ms/step\n",
            "1/1 [==============================] - 0s 21ms/step\n",
            "1/1 [==============================] - 0s 29ms/step\n"
          ]
        }
      ]
    },
    {
      "cell_type": "code",
      "source": [
        "plt.plot(validation_target,label='forecast_target')\n",
        "plt.plot(validation_predictions,label='forecast_predictions')\n",
        "plt.legend()"
      ],
      "metadata": {
        "colab": {
          "base_uri": "https://localhost:8080/",
          "height": 283
        },
        "id": "7K8mmViU9-k4",
        "outputId": "0a02c3f8-e794-4b86-cc58-0b283551dae0"
      },
      "execution_count": 51,
      "outputs": [
        {
          "output_type": "execute_result",
          "data": {
            "text/plain": [
              "<matplotlib.legend.Legend at 0x7f44f9a8cc10>"
            ]
          },
          "metadata": {},
          "execution_count": 51
        },
        {
          "output_type": "display_data",
          "data": {
            "text/plain": [
              "<Figure size 432x288 with 1 Axes>"
            ],
            "image/png": "[encoded data removed]"
          },
          "metadata": {
            "needs_background": "light"
          }
        }
      ]
    },
    {
      "cell_type": "code",
      "source": [
        "validation_target= Y[-N//2:]\n",
        "validation_predictions=[]\n",
        "\n",
        "last_x=X[-N//2]\n",
        "\n",
        "while(len(validation_predictions)<len(validation_target)):\n",
        "  p=model.predict(last_x.reshape(1,-1,1))[0,0]\n",
        "  validation_predictions.append(p)\n",
        "\n",
        "  last_x=np.roll(last_x,-1)\n",
        "  last_x[-1]=p"
      ],
      "metadata": {
        "colab": {
          "base_uri": "https://localhost:8080/"
        },
        "id": "v_PijrMj-C2S",
        "outputId": "c1e87932-5796-48d3-f4de-688253f79a53"
      },
      "execution_count": 52,
      "outputs": [
        {
          "output_type": "stream",
          "name": "stdout",
          "text": [
            "1/1 [==============================] - 0s 20ms/step\n",
            "1/1 [==============================] - 0s 19ms/step\n",
            "1/1 [==============================] - 0s 24ms/step\n",
            "1/1 [==============================] - 0s 20ms/step\n",
            "1/1 [==============================] - 0s 19ms/step\n",
            "1/1 [==============================] - 0s 22ms/step\n",
            "1/1 [==============================] - 0s 19ms/step\n",
            "1/1 [==============================] - 0s 19ms/step\n",
            "1/1 [==============================] - 0s 18ms/step\n",
            "1/1 [==============================] - 0s 19ms/step\n",
            "1/1 [==============================] - 0s 20ms/step\n",
            "1/1 [==============================] - 0s 18ms/step\n",
            "1/1 [==============================] - 0s 20ms/step\n",
            "1/1 [==============================] - 0s 20ms/step\n",
            "1/1 [==============================] - 0s 21ms/step\n",
            "1/1 [==============================] - 0s 18ms/step\n",
            "1/1 [==============================] - 0s 19ms/step\n",
            "1/1 [==============================] - 0s 18ms/step\n",
            "1/1 [==============================] - 0s 30ms/step\n",
            "1/1 [==============================] - 0s 19ms/step\n",
            "1/1 [==============================] - 0s 20ms/step\n",
            "1/1 [==============================] - 0s 21ms/step\n",
            "1/1 [==============================] - 0s 20ms/step\n",
            "1/1 [==============================] - 0s 19ms/step\n",
            "1/1 [==============================] - 0s 20ms/step\n",
            "1/1 [==============================] - 0s 20ms/step\n",
            "1/1 [==============================] - 0s 20ms/step\n",
            "1/1 [==============================] - 0s 21ms/step\n",
            "1/1 [==============================] - 0s 19ms/step\n",
            "1/1 [==============================] - 0s 20ms/step\n",
            "1/1 [==============================] - 0s 26ms/step\n",
            "1/1 [==============================] - 0s 23ms/step\n",
            "1/1 [==============================] - 0s 20ms/step\n",
            "1/1 [==============================] - 0s 20ms/step\n",
            "1/1 [==============================] - 0s 21ms/step\n",
            "1/1 [==============================] - 0s 25ms/step\n",
            "1/1 [==============================] - 0s 19ms/step\n",
            "1/1 [==============================] - 0s 18ms/step\n",
            "1/1 [==============================] - 0s 20ms/step\n",
            "1/1 [==============================] - 0s 20ms/step\n",
            "1/1 [==============================] - 0s 22ms/step\n",
            "1/1 [==============================] - 0s 18ms/step\n",
            "1/1 [==============================] - 0s 25ms/step\n",
            "1/1 [==============================] - 0s 29ms/step\n",
            "1/1 [==============================] - 0s 25ms/step\n",
            "1/1 [==============================] - 0s 26ms/step\n",
            "1/1 [==============================] - 0s 23ms/step\n",
            "1/1 [==============================] - 0s 19ms/step\n",
            "1/1 [==============================] - 0s 19ms/step\n",
            "1/1 [==============================] - 0s 22ms/step\n",
            "1/1 [==============================] - 0s 22ms/step\n",
            "1/1 [==============================] - 0s 19ms/step\n",
            "1/1 [==============================] - 0s 21ms/step\n",
            "1/1 [==============================] - 0s 20ms/step\n",
            "1/1 [==============================] - 0s 20ms/step\n",
            "1/1 [==============================] - 0s 19ms/step\n",
            "1/1 [==============================] - 0s 19ms/step\n",
            "1/1 [==============================] - 0s 18ms/step\n",
            "1/1 [==============================] - 0s 18ms/step\n",
            "1/1 [==============================] - 0s 18ms/step\n",
            "1/1 [==============================] - 0s 20ms/step\n",
            "1/1 [==============================] - 0s 19ms/step\n",
            "1/1 [==============================] - 0s 21ms/step\n",
            "1/1 [==============================] - 0s 20ms/step\n",
            "1/1 [==============================] - 0s 19ms/step\n",
            "1/1 [==============================] - 0s 22ms/step\n",
            "1/1 [==============================] - 0s 19ms/step\n",
            "1/1 [==============================] - 0s 22ms/step\n",
            "1/1 [==============================] - 0s 24ms/step\n",
            "1/1 [==============================] - 0s 19ms/step\n",
            "1/1 [==============================] - 0s 23ms/step\n",
            "1/1 [==============================] - 0s 20ms/step\n",
            "1/1 [==============================] - 0s 19ms/step\n",
            "1/1 [==============================] - 0s 24ms/step\n",
            "1/1 [==============================] - 0s 22ms/step\n",
            "1/1 [==============================] - 0s 26ms/step\n",
            "1/1 [==============================] - 0s 28ms/step\n",
            "1/1 [==============================] - 0s 19ms/step\n",
            "1/1 [==============================] - 0s 18ms/step\n",
            "1/1 [==============================] - 0s 19ms/step\n",
            "1/1 [==============================] - 0s 19ms/step\n",
            "1/1 [==============================] - 0s 20ms/step\n",
            "1/1 [==============================] - 0s 21ms/step\n",
            "1/1 [==============================] - 0s 20ms/step\n",
            "1/1 [==============================] - 0s 20ms/step\n",
            "1/1 [==============================] - 0s 19ms/step\n",
            "1/1 [==============================] - 0s 19ms/step\n",
            "1/1 [==============================] - 0s 18ms/step\n",
            "1/1 [==============================] - 0s 19ms/step\n",
            "1/1 [==============================] - 0s 18ms/step\n",
            "1/1 [==============================] - 0s 19ms/step\n",
            "1/1 [==============================] - 0s 19ms/step\n",
            "1/1 [==============================] - 0s 27ms/step\n",
            "1/1 [==============================] - 0s 23ms/step\n",
            "1/1 [==============================] - 0s 19ms/step\n"
          ]
        }
      ]
    },
    {
      "cell_type": "code",
      "source": [
        "plt.plot(validation_target,label='forecast_target')\n",
        "plt.plot(validation_predictions,label='forecast_predictions')\n",
        "plt.legend()"
      ],
      "metadata": {
        "colab": {
          "base_uri": "https://localhost:8080/",
          "height": 283
        },
        "id": "1r8gvp4d-QEY",
        "outputId": "c327a80c-8bc9-4e7f-862f-7631724eb073"
      },
      "execution_count": 53,
      "outputs": [
        {
          "output_type": "execute_result",
          "data": {
            "text/plain": [
              "<matplotlib.legend.Legend at 0x7f44f1a7e280>"
            ]
          },
          "metadata": {},
          "execution_count": 53
        },
        {
          "output_type": "display_data",
          "data": {
            "text/plain": [
              "<Figure size 432x288 with 1 Axes>"
            ],
            "image/png": "[encoded data removed]"
          },
          "metadata": {
            "needs_background": "light"
          }
        }
      ]
    }
  ]
}