{
  "nbformat": 4,
  "nbformat_minor": 0,
  "metadata": {
    "colab": {
      "provenance": [],
      "authorship_tag": "ABX9TyMkVRyvMeHw888+VZvB9/bF",
      "include_colab_link": true
    },
    "kernelspec": {
      "name": "python3",
      "display_name": "Python 3"
    },
    "language_info": {
      "name": "python"
    }
  },
  "cells": [
    {
      "cell_type": "markdown",
      "metadata": {
        "id": "view-in-github",
        "colab_type": "text"
      },
      "source": [
        "<a href=\"https://colab.research.google.com/github/tusharbansal22/Tensorflow-Notebooks/blob/main/CIFAR_Improved.ipynb\" target=\"_parent\"><img src=\"https://colab.research.google.com/assets/colab-badge.svg\" alt=\"Open In Colab\"/></a>"
      ]
    },
    {
      "cell_type": "code",
      "execution_count": 1,
      "metadata": {
        "colab": {
          "base_uri": "https://localhost:8080/"
        },
        "id": "wwsSeEVZ5CLC",
        "outputId": "d1e54ff6-e8e6-406b-e1f1-1e838587ae32"
      },
      "outputs": [
        {
          "output_type": "stream",
          "name": "stdout",
          "text": [
            "2.9.2\n"
          ]
        }
      ],
      "source": [
        "import tensorflow as tf\n",
        "print(tf.__version__)"
      ]
    },
    {
      "cell_type": "code",
      "source": [
        "import numpy as np\n",
        "import matplotlib.pyplot as plt\n",
        "from tensorflow.keras.layers import Input,Conv2D,Dense,Flatten,Dropout,GlobalMaxPooling2D,MaxPooling2D,BatchNormalization\n",
        "from tensorflow.keras.models import Model"
      ],
      "metadata": {
        "id": "J7QiWpFT5Juu"
      },
      "execution_count": 8,
      "outputs": []
    },
    {
      "cell_type": "code",
      "source": [
        "cifar10=tf.keras.datasets.cifar10\n",
        "(x_train,y_train),(x_test,y_test)=cifar10.load_data()\n",
        "x_train,x_test=x_train/255.0,x_test/255.0\n",
        "y_train,y_test=y_train.flatten(),y_test.flatten()\n",
        "print(\"x train shape :\", x_train.shape)\n",
        "print(\"y train shape :\", y_train.shape)"
      ],
      "metadata": {
        "colab": {
          "base_uri": "https://localhost:8080/"
        },
        "id": "urcVz6iL5Phu",
        "outputId": "6d9cd604-bc6a-4873-dd7c-7d5a80633f44"
      },
      "execution_count": 5,
      "outputs": [
        {
          "output_type": "stream",
          "name": "stdout",
          "text": [
            "x train shape : (50000, 32, 32, 3)\n",
            "y train shape : (50000,)\n"
          ]
        }
      ]
    },
    {
      "cell_type": "code",
      "source": [
        "K=len(set(y_train ))\n",
        "print(\"number of classes :\",K)"
      ],
      "metadata": {
        "colab": {
          "base_uri": "https://localhost:8080/"
        },
        "id": "kfra0ZPN5umw",
        "outputId": "e627f50a-3d48-4a81-ade9-13c4dbb7dacd"
      },
      "execution_count": 6,
      "outputs": [
        {
          "output_type": "stream",
          "name": "stdout",
          "text": [
            "number of classes : 10\n"
          ]
        }
      ]
    },
    {
      "cell_type": "code",
      "source": [
        "i=Input(shape=x_train[0].shape)\n",
        "\n",
        "x=Conv2D(32,(3,3),activation='relu',padding='same')(i)\n",
        "x=BatchNormalization()(x)\n",
        "x=Conv2D(32,(3,3),activation='relu',padding='same')(x)\n",
        "x=BatchNormalization()(x)\n",
        "x=MaxPooling2D((2,2))(x)\n",
        "x=Conv2D(64,(3,3),activation='relu',padding='same')(x)\n",
        "x=BatchNormalization()(x)\n",
        "x=Conv2D(64,(3,3),activation='relu',padding='same')(x)\n",
        "x=BatchNormalization()(x)\n",
        "x=MaxPooling2D((2,2))(x)\n",
        "x=Conv2D(128,(3,3),activation='relu',padding='same')(x)\n",
        "x=BatchNormalization()(x)\n",
        "x=Conv2D(128,(3,3),activation='relu',padding='same')(x)\n",
        "x=BatchNormalization()(x)\n",
        "x=MaxPooling2D((2,2))(x)\n",
        "\n",
        "x=Flatten()(x)\n",
        "x=Dropout(0.2)(x)\n",
        "x=Dense(1024,activation='relu')(x)\n",
        "x=Dropout(0.2)(x)\n",
        "x=Dense(K,activation='softmax')(x)\n",
        "\n",
        "model=Model(i,x)"
      ],
      "metadata": {
        "id": "Un3KQdvx5w5p"
      },
      "execution_count": 9,
      "outputs": []
    },
    {
      "cell_type": "code",
      "source": [
        "model.compile(optimizer='adam',loss='sparse_categorical_crossentropy',metrics=['accuracy'])\n"
      ],
      "metadata": {
        "id": "vKEgNNKW7ZxS"
      },
      "execution_count": 12,
      "outputs": []
    },
    {
      "cell_type": "code",
      "source": [
        "r=model.fit(x_train,y_train,validation_data=(x_test,y_test),epochs=50)"
      ],
      "metadata": {
        "id": "MRTEPjK87ugL"
      },
      "execution_count": null,
      "outputs": []
    },
    {
      "cell_type": "code",
      "source": [
        "batch_size=32\n",
        "data_generator=tf.keras.preprocessing.image.ImageDataGenerator(width_shift_range=0.1,height_shift_range=0.1,horizontal_flip=True)\n",
        "train_generator=data_generator.flow(x_train,y_train,batch_size)\n",
        "steps_per_epoch=x_train.shape[0]/batch_size\n",
        "r=model.fit_generator(train_generator,validation_data=(x_test,y_test),steps_per_epoch=steps_per_epoch,epochs=50)"
      ],
      "metadata": {
        "id": "7KiuMGUB70yP"
      },
      "execution_count": null,
      "outputs": []
    },
    {
      "cell_type": "code",
      "source": [
        "import matplotlib.pyplot as plt\n",
        "plt.plot(r.history['loss'],label='loss')\n",
        "plt.plot(r.history['val_loss'],label='val_loss')\n",
        "plt.legend()"
      ],
      "metadata": {
        "id": "SGBuGyQj9NLU"
      },
      "execution_count": null,
      "outputs": []
    },
    {
      "cell_type": "code",
      "source": [
        "plt.plot(r.history['accuracy'],label='accuracy')\n",
        "plt.plot(r.history['val_accuracy'],label='val_accuracy')\n",
        "plt.legend()"
      ],
      "metadata": {
        "id": "RQokrH5d9NjH"
      },
      "execution_count": null,
      "outputs": []
    },
    {
      "cell_type": "code",
      "source": [
        "from sklearn.metrics import confusion_matrix\n",
        "import numpy as np\n",
        "import itertools\n",
        "\n",
        "def plot_confusion_matrix(cm,classes,normalize=False,title='Confusion Matrix',cmap=plt.cm.Blues):\n",
        "  if normalize:\n",
        "    cm=cm.astype('float')/cm.sum(axis=1)[:,np.newaxis]\n",
        "    print(\"Normalized confusion matrix\")\n",
        "  else:\n",
        "    print('Confusion matrix, without normalization')\n",
        "  print(cm)\n",
        "  plt.imshow(cm,interpolation='nearest',cmap=cmap)\n",
        "  plt.title(title)\n",
        "  plt.colorbar()\n",
        "  tick_marks=np.arange(len(classes))\n",
        "  plt.xticks(tick_marks,classes,rotation=45)\n",
        "  plt.yticks(tick_marks,classes)\n",
        "  fmt= '.2f' if normalize else 'd'\n",
        "  thresh= cm.max()/2.\n",
        "  for i,j in itertools.product(range(cm.shape[0]),range(cm.shape[1])):\n",
        "    plt.text(j,i,format(cm[i,j],fmt),\n",
        "             horizontalalignment='center',\n",
        "             color='white'if cm[i,j]>thresh else 'black')\n",
        "  plt.tight_layout()\n",
        "  plt.ylabel('True label')\n",
        "  plt.xlabel('Predicted label')\n",
        "  plt.show()\n",
        "\n",
        "p_test=model.predict(x_test).argmax(axis=1)\n",
        "cm=confusion_matrix(y_test,p_test)\n",
        "plot_confusion_matrix(cm,list(range(10)))"
      ],
      "metadata": {
        "id": "oXjz55Oj9N2s"
      },
      "execution_count": null,
      "outputs": []
    },
    {
      "cell_type": "code",
      "source": [
        "labels='''\n",
        "airplane\n",
        "automobile\n",
        "bird\n",
        "cat\n",
        "deer\n",
        "dog\n",
        "frog\n",
        "horse\n",
        "ship\n",
        "truck\n",
        "'''.split()"
      ],
      "metadata": {
        "id": "iA8qbPAq9OO_"
      },
      "execution_count": null,
      "outputs": []
    },
    {
      "cell_type": "code",
      "source": [
        "misclassified_idx=np.where(p_test!=y_test)[0]\n",
        "i=np.random.choice(misclassified_idx)\n",
        "plt.imshow(x_test[i],cmap='gray')\n",
        "plt.title('True label: %s  Predicted label: %s'%(labels[y_test[i]],labels[p_test[i]]))"
      ],
      "metadata": {
        "id": "0MQ-lnoE99Ty"
      },
      "execution_count": null,
      "outputs": []
    },
    {
      "cell_type": "code",
      "source": [
        "model.summary()"
      ],
      "metadata": {
        "id": "SywDhMya9_Kq"
      },
      "execution_count": null,
      "outputs": []
    }
  ]
}