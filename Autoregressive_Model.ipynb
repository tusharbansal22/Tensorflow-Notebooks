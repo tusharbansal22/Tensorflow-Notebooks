{
  "nbformat": 4,
  "nbformat_minor": 0,
  "metadata": {
    "colab": {
      "provenance": [],
      "authorship_tag": "ABX9TyOuWyL64PsIc/7tr0PoZI09",
      "include_colab_link": true
    },
    "kernelspec": {
      "name": "python3",
      "display_name": "Python 3"
    },
    "language_info": {
      "name": "python"
    }
  },
  "cells": [
    {
      "cell_type": "markdown",
      "metadata": {
        "id": "view-in-github",
        "colab_type": "text"
      },
      "source": [
        "<a href=\"https://colab.research.google.com/github/tusharbansal22/Tensorflow-Notebooks/blob/main/Autoregressive_Model.ipynb\" target=\"_parent\"><img src=\"https://colab.research.google.com/assets/colab-badge.svg\" alt=\"Open In Colab\"/></a>"
      ]
    },
    {
      "cell_type": "code",
      "execution_count": 17,
      "metadata": {
        "colab": {
          "base_uri": "https://localhost:8080/"
        },
        "id": "FDYmoRBrZwD6",
        "outputId": "7ad38c44-b43e-436b-e2e5-9f7b5cff5d47"
      },
      "outputs": [
        {
          "output_type": "stream",
          "name": "stdout",
          "text": [
            "2.9.2\n"
          ]
        }
      ],
      "source": [
        "import tensorflow as tf\n",
        "print(tf.__version__)"
      ]
    },
    {
      "cell_type": "code",
      "source": [
        "from tensorflow.keras.layers import Input,Dense\n",
        "from tensorflow.keras.models import Model\n",
        "from tensorflow.keras.optimizers import SGD,Adam\n",
        "\n",
        "import numpy as np\n",
        "import pandas as pd\n",
        "import matplotlib.pyplot as plt"
      ],
      "metadata": {
        "id": "Dn0np4HNZ53n"
      },
      "execution_count": 18,
      "outputs": []
    },
    {
      "cell_type": "code",
      "source": [
        "series= np.sin(0.1*np.arange(200 ))+ np.random.randn(200)*0.1\n",
        "plt.plot(series)\n",
        "plt.show()"
      ],
      "metadata": {
        "colab": {
          "base_uri": "https://localhost:8080/",
          "height": 265
        },
        "id": "cAXccLQtaMUK",
        "outputId": "da4d9d6d-e289-4a73-dcd3-2258173e3392"
      },
      "execution_count": 19,
      "outputs": [
        {
          "output_type": "display_data",
          "data": {
            "text/plain": [
              "<Figure size 432x288 with 1 Axes>"
            ],
            "image/png": "[encoded data removed]"
          },
          "metadata": {
            "needs_background": "light"
          }
        }
      ]
    },
    {
      "cell_type": "code",
      "source": [
        "T=10\n",
        "X=[]\n",
        "Y=[]\n",
        "for t in range(0,len(series)-T):\n",
        "  x=series[t:t+T]\n",
        "  X.append(x)\n",
        "  y=series[t+T]\n",
        "  Y.append(y)\n",
        "X=np.array(X).reshape(-1,T)\n",
        "Y=np.array(Y)\n",
        "N=len(x)\n",
        "print(\"X.shape :\",X.shape,\"Y.shape :\",Y.shape)"
      ],
      "metadata": {
        "id": "W4YbqUnaapwi",
        "outputId": "dda017cf-736f-4406-ea3b-9a5f17927a7b",
        "colab": {
          "base_uri": "https://localhost:8080/"
        }
      },
      "execution_count": 20,
      "outputs": [
        {
          "output_type": "stream",
          "name": "stdout",
          "text": [
            "X.shape : (190, 10) Y.shape : (190,)\n"
          ]
        }
      ]
    },
    {
      "cell_type": "code",
      "source": [
        "i=Input(shape=(T,))\n",
        "x=Dense(1)(i)\n",
        "model=Model(i,x)\n",
        "model.compile(loss='mse',optimizer=Adam(lr=0.1))\n",
        "r=model.fit(X[:N//2],Y[:N//2],epochs=80,validation_data=(X[-N//2:],Y[-N//2:]))"
      ],
      "metadata": {
        "id": "2BGcv8P2beNA",
        "outputId": "24b6ecac-fffe-4343-d2ab-e104b068be49",
        "colab": {
          "base_uri": "https://localhost:8080/"
        }
      },
      "execution_count": 21,
      "outputs": [
        {
          "output_type": "stream",
          "name": "stdout",
          "text": [
            "Epoch 1/80\n"
          ]
        },
        {
          "output_type": "stream",
          "name": "stderr",
          "text": [
            "/usr/local/lib/python3.8/dist-packages/keras/optimizers/optimizer_v2/adam.py:110: UserWarning: The `lr` argument is deprecated, use `learning_rate` instead.\n",
            "  super(Adam, self).__init__(name, **kwargs)\n"
          ]
        },
        {
          "output_type": "stream",
          "name": "stdout",
          "text": [
            "1/1 [==============================] - 0s 409ms/step - loss: 4.0905 - val_loss: 0.7384\n",
            "Epoch 2/80\n",
            "1/1 [==============================] - 0s 36ms/step - loss: 1.8658 - val_loss: 0.2247\n",
            "Epoch 3/80\n",
            "1/1 [==============================] - 0s 35ms/step - loss: 0.5406 - val_loss: 0.0195\n",
            "Epoch 4/80\n",
            "1/1 [==============================] - 0s 39ms/step - loss: 0.0474 - val_loss: 0.0500\n",
            "Epoch 5/80\n",
            "1/1 [==============================] - 0s 33ms/step - loss: 0.1835 - val_loss: 0.1904\n",
            "Epoch 6/80\n",
            "1/1 [==============================] - 0s 34ms/step - loss: 0.6021 - val_loss: 0.3130\n",
            "Epoch 7/80\n",
            "1/1 [==============================] - 0s 29ms/step - loss: 0.9542 - val_loss: 0.3521\n",
            "Epoch 8/80\n",
            "1/1 [==============================] - 0s 30ms/step - loss: 1.0636 - val_loss: 0.3085\n",
            "Epoch 9/80\n",
            "1/1 [==============================] - 0s 44ms/step - loss: 0.9366 - val_loss: 0.2166\n",
            "Epoch 10/80\n",
            "1/1 [==============================] - 0s 33ms/step - loss: 0.6704 - val_loss: 0.1170\n",
            "Epoch 11/80\n",
            "1/1 [==============================] - 0s 30ms/step - loss: 0.3787 - val_loss: 0.0420\n",
            "Epoch 12/80\n",
            "1/1 [==============================] - 0s 28ms/step - loss: 0.1521 - val_loss: 0.0095\n",
            "Epoch 13/80\n",
            "1/1 [==============================] - 0s 28ms/step - loss: 0.0411 - val_loss: 0.0204\n",
            "Epoch 14/80\n",
            "1/1 [==============================] - 0s 37ms/step - loss: 0.0504 - val_loss: 0.0608\n",
            "Epoch 15/80\n",
            "1/1 [==============================] - 0s 32ms/step - loss: 0.1439 - val_loss: 0.1088\n",
            "Epoch 16/80\n",
            "1/1 [==============================] - 0s 28ms/step - loss: 0.2632 - val_loss: 0.1435\n",
            "Epoch 17/80\n",
            "1/1 [==============================] - 0s 31ms/step - loss: 0.3519 - val_loss: 0.1528\n",
            "Epoch 18/80\n",
            "1/1 [==============================] - 0s 37ms/step - loss: 0.3768 - val_loss: 0.1359\n",
            "Epoch 19/80\n",
            "1/1 [==============================] - 0s 29ms/step - loss: 0.3352 - val_loss: 0.1012\n",
            "Epoch 20/80\n",
            "1/1 [==============================] - 0s 31ms/step - loss: 0.2484 - val_loss: 0.0615\n",
            "Epoch 21/80\n",
            "1/1 [==============================] - 0s 29ms/step - loss: 0.1498 - val_loss: 0.0288\n",
            "Epoch 22/80\n",
            "1/1 [==============================] - 0s 27ms/step - loss: 0.0711 - val_loss: 0.0108\n",
            "Epoch 23/80\n",
            "1/1 [==============================] - 0s 29ms/step - loss: 0.0321 - val_loss: 0.0092\n",
            "Epoch 24/80\n",
            "1/1 [==============================] - 0s 27ms/step - loss: 0.0361 - val_loss: 0.0196\n",
            "Epoch 25/80\n",
            "1/1 [==============================] - 0s 28ms/step - loss: 0.0708 - val_loss: 0.0343\n",
            "Epoch 26/80\n",
            "1/1 [==============================] - 0s 31ms/step - loss: 0.1149 - val_loss: 0.0455\n",
            "Epoch 27/80\n",
            "1/1 [==============================] - 0s 28ms/step - loss: 0.1472 - val_loss: 0.0485\n",
            "Epoch 28/80\n",
            "1/1 [==============================] - 0s 28ms/step - loss: 0.1548 - val_loss: 0.0426\n",
            "Epoch 29/80\n",
            "1/1 [==============================] - 0s 30ms/step - loss: 0.1366 - val_loss: 0.0310\n",
            "Epoch 30/80\n",
            "1/1 [==============================] - 0s 31ms/step - loss: 0.1015 - val_loss: 0.0186\n",
            "Epoch 31/80\n",
            "1/1 [==============================] - 0s 26ms/step - loss: 0.0637 - val_loss: 0.0100\n",
            "Epoch 32/80\n",
            "1/1 [==============================] - 0s 31ms/step - loss: 0.0363 - val_loss: 0.0078\n",
            "Epoch 33/80\n",
            "1/1 [==============================] - 0s 32ms/step - loss: 0.0263 - val_loss: 0.0115\n",
            "Epoch 34/80\n",
            "1/1 [==============================] - 0s 31ms/step - loss: 0.0331 - val_loss: 0.0184\n",
            "Epoch 35/80\n",
            "1/1 [==============================] - 0s 32ms/step - loss: 0.0497 - val_loss: 0.0249\n",
            "Epoch 36/80\n",
            "1/1 [==============================] - 0s 27ms/step - loss: 0.0662 - val_loss: 0.0281\n",
            "Epoch 37/80\n",
            "1/1 [==============================] - 0s 30ms/step - loss: 0.0746 - val_loss: 0.0268\n",
            "Epoch 38/80\n",
            "1/1 [==============================] - 0s 29ms/step - loss: 0.0716 - val_loss: 0.0219\n",
            "Epoch 39/80\n",
            "1/1 [==============================] - 0s 32ms/step - loss: 0.0592 - val_loss: 0.0155\n",
            "Epoch 40/80\n",
            "1/1 [==============================] - 0s 32ms/step - loss: 0.0432 - val_loss: 0.0102\n",
            "Epoch 41/80\n",
            "1/1 [==============================] - 0s 28ms/step - loss: 0.0301 - val_loss: 0.0075\n",
            "Epoch 42/80\n",
            "1/1 [==============================] - 0s 30ms/step - loss: 0.0240 - val_loss: 0.0078\n",
            "Epoch 43/80\n",
            "1/1 [==============================] - 0s 29ms/step - loss: 0.0257 - val_loss: 0.0101\n",
            "Epoch 44/80\n",
            "1/1 [==============================] - 0s 39ms/step - loss: 0.0324 - val_loss: 0.0126\n",
            "Epoch 45/80\n",
            "1/1 [==============================] - 0s 31ms/step - loss: 0.0394 - val_loss: 0.0140\n",
            "Epoch 46/80\n",
            "1/1 [==============================] - 0s 27ms/step - loss: 0.0430 - val_loss: 0.0136\n",
            "Epoch 47/80\n",
            "1/1 [==============================] - 0s 29ms/step - loss: 0.0415 - val_loss: 0.0117\n",
            "Epoch 48/80\n",
            "1/1 [==============================] - 0s 36ms/step - loss: 0.0359 - val_loss: 0.0093\n",
            "Epoch 49/80\n",
            "1/1 [==============================] - 0s 49ms/step - loss: 0.0289 - val_loss: 0.0075\n",
            "Epoch 50/80\n",
            "1/1 [==============================] - 0s 37ms/step - loss: 0.0236 - val_loss: 0.0070\n",
            "Epoch 51/80\n",
            "1/1 [==============================] - 0s 34ms/step - loss: 0.0216 - val_loss: 0.0076\n",
            "Epoch 52/80\n",
            "1/1 [==============================] - 0s 30ms/step - loss: 0.0230 - val_loss: 0.0087\n",
            "Epoch 53/80\n",
            "1/1 [==============================] - 0s 29ms/step - loss: 0.0260 - val_loss: 0.0097\n",
            "Epoch 54/80\n",
            "1/1 [==============================] - 0s 28ms/step - loss: 0.0286 - val_loss: 0.0100\n",
            "Epoch 55/80\n",
            "1/1 [==============================] - 0s 28ms/step - loss: 0.0292 - val_loss: 0.0094\n",
            "Epoch 56/80\n",
            "1/1 [==============================] - 0s 30ms/step - loss: 0.0275 - val_loss: 0.0083\n",
            "Epoch 57/80\n",
            "1/1 [==============================] - 0s 31ms/step - loss: 0.0245 - val_loss: 0.0072\n",
            "Epoch 58/80\n",
            "1/1 [==============================] - 0s 33ms/step - loss: 0.0215 - val_loss: 0.0067\n",
            "Epoch 59/80\n",
            "1/1 [==============================] - 0s 33ms/step - loss: 0.0198 - val_loss: 0.0068\n",
            "Epoch 60/80\n",
            "1/1 [==============================] - 0s 30ms/step - loss: 0.0198 - val_loss: 0.0072\n",
            "Epoch 61/80\n",
            "1/1 [==============================] - 0s 32ms/step - loss: 0.0209 - val_loss: 0.0078\n",
            "Epoch 62/80\n",
            "1/1 [==============================] - 0s 32ms/step - loss: 0.0221 - val_loss: 0.0080\n",
            "Epoch 63/80\n",
            "1/1 [==============================] - 0s 34ms/step - loss: 0.0225 - val_loss: 0.0079\n",
            "Epoch 64/80\n",
            "1/1 [==============================] - 0s 28ms/step - loss: 0.0219 - val_loss: 0.0074\n",
            "Epoch 65/80\n",
            "1/1 [==============================] - 0s 29ms/step - loss: 0.0205 - val_loss: 0.0068\n",
            "Epoch 66/80\n",
            "1/1 [==============================] - 0s 34ms/step - loss: 0.0190 - val_loss: 0.0064\n",
            "Epoch 67/80\n",
            "1/1 [==============================] - 0s 27ms/step - loss: 0.0181 - val_loss: 0.0064\n",
            "Epoch 68/80\n",
            "1/1 [==============================] - 0s 42ms/step - loss: 0.0178 - val_loss: 0.0065\n",
            "Epoch 69/80\n",
            "1/1 [==============================] - 0s 28ms/step - loss: 0.0182 - val_loss: 0.0066\n",
            "Epoch 70/80\n",
            "1/1 [==============================] - 0s 29ms/step - loss: 0.0187 - val_loss: 0.0067\n",
            "Epoch 71/80\n",
            "1/1 [==============================] - 0s 39ms/step - loss: 0.0188 - val_loss: 0.0066\n",
            "Epoch 72/80\n",
            "1/1 [==============================] - 0s 33ms/step - loss: 0.0184 - val_loss: 0.0064\n",
            "Epoch 73/80\n",
            "1/1 [==============================] - 0s 27ms/step - loss: 0.0176 - val_loss: 0.0062\n",
            "Epoch 74/80\n",
            "1/1 [==============================] - 0s 33ms/step - loss: 0.0169 - val_loss: 0.0061\n",
            "Epoch 75/80\n",
            "1/1 [==============================] - 0s 30ms/step - loss: 0.0163 - val_loss: 0.0062\n",
            "Epoch 76/80\n",
            "1/1 [==============================] - 0s 38ms/step - loss: 0.0162 - val_loss: 0.0063\n",
            "Epoch 77/80\n",
            "1/1 [==============================] - 0s 30ms/step - loss: 0.0163 - val_loss: 0.0064\n",
            "Epoch 78/80\n",
            "1/1 [==============================] - 0s 29ms/step - loss: 0.0164 - val_loss: 0.0065\n",
            "Epoch 79/80\n",
            "1/1 [==============================] - 0s 36ms/step - loss: 0.0163 - val_loss: 0.0064\n",
            "Epoch 80/80\n",
            "1/1 [==============================] - 0s 34ms/step - loss: 0.0160 - val_loss: 0.0062\n"
          ]
        }
      ]
    },
    {
      "cell_type": "code",
      "source": [
        "plt.plot(r.history['loss'],label='loss')\n",
        "plt.plot(r.history['val_loss'],label='val_loss')\n",
        "plt.legend()"
      ],
      "metadata": {
        "id": "QwvSGYTZckfD",
        "outputId": "dcf82dd2-bf08-4842-89e0-edbfba1e4a8b",
        "colab": {
          "base_uri": "https://localhost:8080/",
          "height": 283
        }
      },
      "execution_count": 22,
      "outputs": [
        {
          "output_type": "execute_result",
          "data": {
            "text/plain": [
              "<matplotlib.legend.Legend at 0x7fbd4fcd9e80>"
            ]
          },
          "metadata": {},
          "execution_count": 22
        },
        {
          "output_type": "display_data",
          "data": {
            "text/plain": [
              "<Figure size 432x288 with 1 Axes>"
            ],
            "image/png": "[encoded data removed]"
          },
          "metadata": {
            "needs_background": "light"
          }
        }
      ]
    },
    {
      "cell_type": "code",
      "source": [
        "validation_target= Y[-N//2:]\n",
        "validation_predictions=[]\n",
        "\n",
        "i=-N//2\n",
        "\n",
        "while(len(validation_predictions)<len(validation_target)):\n",
        "  p=model.predict(X[i].reshape(1,-1))[0,0]\n",
        "  i+=1\n",
        "  validation_predictions.append(p)"
      ],
      "metadata": {
        "id": "zf0lMnHGc6BR",
        "outputId": "c4c629d6-cdd3-4141-b2f8-020debcb7bc0",
        "colab": {
          "base_uri": "https://localhost:8080/"
        }
      },
      "execution_count": 23,
      "outputs": [
        {
          "output_type": "stream",
          "name": "stdout",
          "text": [
            "1/1 [==============================] - 0s 37ms/step\n",
            "1/1 [==============================] - 0s 18ms/step\n",
            "1/1 [==============================] - 0s 18ms/step\n",
            "1/1 [==============================] - 0s 21ms/step\n",
            "1/1 [==============================] - 0s 19ms/step\n"
          ]
        }
      ]
    },
    {
      "cell_type": "code",
      "source": [
        "plt.plot(validation_target,label='forecast_target')\n",
        "plt.plot(validation_predictions,label='forecast_predictions')\n",
        "plt.legend()"
      ],
      "metadata": {
        "id": "3-RmvCr-eDxL",
        "outputId": "2897690e-1aa8-41c8-deff-19af66a0a827",
        "colab": {
          "base_uri": "https://localhost:8080/",
          "height": 283
        }
      },
      "execution_count": 24,
      "outputs": [
        {
          "output_type": "execute_result",
          "data": {
            "text/plain": [
              "<matplotlib.legend.Legend at 0x7fbd4fda6ca0>"
            ]
          },
          "metadata": {},
          "execution_count": 24
        },
        {
          "output_type": "display_data",
          "data": {
            "text/plain": [
              "<Figure size 432x288 with 1 Axes>"
            ],
            "image/png": "[encoded data removed]"
          },
          "metadata": {
            "needs_background": "light"
          }
        }
      ]
    },
    {
      "cell_type": "code",
      "source": [
        "validation_target= Y[-N//2:]\n",
        "validation_predictions=[]\n",
        "\n",
        "last_x=X[-N//2]\n",
        "\n",
        "while(len(validation_predictions)<len(validation_target)):\n",
        "  p=model.predict(last_x.reshape(1,-1))[0,0]\n",
        "  validation_predictions.append(p)\n",
        "\n",
        "  last_x=np.roll(last_x,-1)\n",
        "  last_x[-1]=p"
      ],
      "metadata": {
        "id": "hru_0L-2edLf",
        "outputId": "7a49be8e-831c-4c3d-a5da-0d7539c58008",
        "colab": {
          "base_uri": "https://localhost:8080/"
        }
      },
      "execution_count": 25,
      "outputs": [
        {
          "output_type": "stream",
          "name": "stdout",
          "text": [
            "1/1 [==============================] - 0s 19ms/step\n",
            "1/1 [==============================] - 0s 18ms/step\n",
            "1/1 [==============================] - 0s 20ms/step\n",
            "1/1 [==============================] - 0s 18ms/step\n",
            "1/1 [==============================] - 0s 17ms/step\n"
          ]
        }
      ]
    },
    {
      "cell_type": "code",
      "source": [
        "plt.plot(validation_target,label='forecast_target')\n",
        "plt.plot(validation_predictions,label='forecast_predictions')\n",
        "plt.legend()"
      ],
      "metadata": {
        "id": "0cBUFGhJe5lJ",
        "outputId": "f892522e-6227-4312-ee60-23b5bdfd1f17",
        "colab": {
          "base_uri": "https://localhost:8080/",
          "height": 283
        }
      },
      "execution_count": 26,
      "outputs": [
        {
          "output_type": "execute_result",
          "data": {
            "text/plain": [
              "<matplotlib.legend.Legend at 0x7fbd4fbbbf10>"
            ]
          },
          "metadata": {},
          "execution_count": 26
        },
        {
          "output_type": "display_data",
          "data": {
            "text/plain": [
              "<Figure size 432x288 with 1 Axes>"
            ],
            "image/png": "[encoded data removed]"
          },
          "metadata": {
            "needs_background": "light"
          }
        }
      ]
    },
    {
      "cell_type": "code",
      "source": [],
      "metadata": {
        "id": "G63ZpKL9e8Sb"
      },
      "execution_count": 26,
      "outputs": []
    }
  ]
}