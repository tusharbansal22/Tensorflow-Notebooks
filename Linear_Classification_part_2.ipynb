{
  "nbformat": 4,
  "nbformat_minor": 0,
  "metadata": {
    "colab": {
      "provenance": [],
      "authorship_tag": "ABX9TyPcWbn/M5L+tgAkavxpITn2",
      "include_colab_link": true
    },
    "kernelspec": {
      "name": "python3",
      "display_name": "Python 3"
    },
    "language_info": {
      "name": "python"
    }
  },
  "cells": [
    {
      "cell_type": "markdown",
      "metadata": {
        "id": "view-in-github",
        "colab_type": "text"
      },
      "source": [
        "<a href=\"https://colab.research.google.com/github/tusharbansal22/Tensorflow-Notebooks/blob/main/Linear_Classification_part_2.ipynb\" target=\"_parent\"><img src=\"https://colab.research.google.com/assets/colab-badge.svg\" alt=\"Open In Colab\"/></a>"
      ]
    },
    {
      "cell_type": "code",
      "execution_count": 2,
      "metadata": {
        "colab": {
          "base_uri": "https://localhost:8080/"
        },
        "id": "xKoBVfffGUuQ",
        "outputId": "df7d9f8c-763e-49bb-a55d-93987f50ac0b"
      },
      "outputs": [
        {
          "output_type": "stream",
          "name": "stdout",
          "text": [
            "2.9.2\n"
          ]
        }
      ],
      "source": [
        "import tensorflow as tf\n",
        "print(tf.__version__)"
      ]
    },
    {
      "cell_type": "code",
      "source": [
        "from sklearn.datasets import load_breast_cancer"
      ],
      "metadata": {
        "id": "e_UPkrPRG0v2"
      },
      "execution_count": 3,
      "outputs": []
    },
    {
      "cell_type": "code",
      "source": [
        "data=load_breast_cancer()"
      ],
      "metadata": {
        "id": "bKzIwLENHeX4"
      },
      "execution_count": 4,
      "outputs": []
    },
    {
      "cell_type": "code",
      "source": [
        "data"
      ],
      "metadata": {
        "colab": {
          "base_uri": "https://localhost:8080/"
        },
        "id": "3xqkb1qYH4fN",
        "outputId": "dbf74e60-0c4a-4933-f7c8-00a71a3240cd"
      },
      "execution_count": 5,
      "outputs": [
        {
          "output_type": "execute_result",
          "data": {
            "text/plain": [
              "{'data': array([[1.799e+01, 1.038e+01, 1.228e+02, ..., 2.654e-01, 4.601e-01,\n",
              "         1.189e-01],\n",
              "        [2.057e+01, 1.777e+01, 1.329e+02, ..., 1.860e-01, 2.750e-01,\n",
              "         8.902e-02],\n",
              "        [1.969e+01, 2.125e+01, 1.300e+02, ..., 2.430e-01, 3.613e-01,\n",
              "         8.758e-02],\n",
              "        ...,\n",
              "        [1.660e+01, 2.808e+01, 1.083e+02, ..., 1.418e-01, 2.218e-01,\n",
              "         7.820e-02],\n",
              "        [2.060e+01, 2.933e+01, 1.401e+02, ..., 2.650e-01, 4.087e-01,\n",
              "         1.240e-01],\n",
              "        [7.760e+00, 2.454e+01, 4.792e+01, ..., 0.000e+00, 2.871e-01,\n",
              "         7.039e-02]]),\n",
              " 'target': array([0, 0, 0, 0, 0, 0, 0, 0, 0, 0, 0, 0, 0, 0, 0, 0, 0, 0, 0, 1, 1, 1,\n",
              "        0, 0, 0, 0, 0, 0, 0, 0, 0, 0, 0, 0, 0, 0, 0, 1, 0, 0, 0, 0, 0, 0,\n",
              "        0, 0, 1, 0, 1, 1, 1, 1, 1, 0, 0, 1, 0, 0, 1, 1, 1, 1, 0, 1, 0, 0,\n",
              "        1, 1, 1, 1, 0, 1, 0, 0, 1, 0, 1, 0, 0, 1, 1, 1, 0, 0, 1, 0, 0, 0,\n",
              "        1, 1, 1, 0, 1, 1, 0, 0, 1, 1, 1, 0, 0, 1, 1, 1, 1, 0, 1, 1, 0, 1,\n",
              "        1, 1, 1, 1, 1, 1, 1, 0, 0, 0, 1, 0, 0, 1, 1, 1, 0, 0, 1, 0, 1, 0,\n",
              "        0, 1, 0, 0, 1, 1, 0, 1, 1, 0, 1, 1, 1, 1, 0, 1, 1, 1, 1, 1, 1, 1,\n",
              "        1, 1, 0, 1, 1, 1, 1, 0, 0, 1, 0, 1, 1, 0, 0, 1, 1, 0, 0, 1, 1, 1,\n",
              "        1, 0, 1, 1, 0, 0, 0, 1, 0, 1, 0, 1, 1, 1, 0, 1, 1, 0, 0, 1, 0, 0,\n",
              "        0, 0, 1, 0, 0, 0, 1, 0, 1, 0, 1, 1, 0, 1, 0, 0, 0, 0, 1, 1, 0, 0,\n",
              "        1, 1, 1, 0, 1, 1, 1, 1, 1, 0, 0, 1, 1, 0, 1, 1, 0, 0, 1, 0, 1, 1,\n",
              "        1, 1, 0, 1, 1, 1, 1, 1, 0, 1, 0, 0, 0, 0, 0, 0, 0, 0, 0, 0, 0, 0,\n",
              "        0, 0, 1, 1, 1, 1, 1, 1, 0, 1, 0, 1, 1, 0, 1, 1, 0, 1, 0, 0, 1, 1,\n",
              "        1, 1, 1, 1, 1, 1, 1, 1, 1, 1, 1, 0, 1, 1, 0, 1, 0, 1, 1, 1, 1, 1,\n",
              "        1, 1, 1, 1, 1, 1, 1, 1, 1, 0, 1, 1, 1, 0, 1, 0, 1, 1, 1, 1, 0, 0,\n",
              "        0, 1, 1, 1, 1, 0, 1, 0, 1, 0, 1, 1, 1, 0, 1, 1, 1, 1, 1, 1, 1, 0,\n",
              "        0, 0, 1, 1, 1, 1, 1, 1, 1, 1, 1, 1, 1, 0, 0, 1, 0, 0, 0, 1, 0, 0,\n",
              "        1, 1, 1, 1, 1, 0, 1, 1, 1, 1, 1, 0, 1, 1, 1, 0, 1, 1, 0, 0, 1, 1,\n",
              "        1, 1, 1, 1, 0, 1, 1, 1, 1, 1, 1, 1, 0, 1, 1, 1, 1, 1, 0, 1, 1, 0,\n",
              "        1, 1, 1, 1, 1, 1, 1, 1, 1, 1, 1, 1, 0, 1, 0, 0, 1, 0, 1, 1, 1, 1,\n",
              "        1, 0, 1, 1, 0, 1, 0, 1, 1, 0, 1, 0, 1, 1, 1, 1, 1, 1, 1, 1, 0, 0,\n",
              "        1, 1, 1, 1, 1, 1, 0, 1, 1, 1, 1, 1, 1, 1, 1, 1, 1, 0, 1, 1, 1, 1,\n",
              "        1, 1, 1, 0, 1, 0, 1, 1, 0, 1, 1, 1, 1, 1, 0, 0, 1, 0, 1, 0, 1, 1,\n",
              "        1, 1, 1, 0, 1, 1, 0, 1, 0, 1, 0, 0, 1, 1, 1, 0, 1, 1, 1, 1, 1, 1,\n",
              "        1, 1, 1, 1, 1, 0, 1, 0, 0, 1, 1, 1, 1, 1, 1, 1, 1, 1, 1, 1, 1, 1,\n",
              "        1, 1, 1, 1, 1, 1, 1, 1, 1, 1, 1, 1, 0, 0, 0, 0, 0, 0, 1]),\n",
              " 'frame': None,\n",
              " 'target_names': array(['malignant', 'benign'], dtype='<U9'),\n",
              " 'DESCR': '.. _breast_cancer_dataset:\\n\\nBreast cancer wisconsin (diagnostic) dataset\\n--------------------------------------------\\n\\n**Data Set Characteristics:**\\n\\n    :Number of Instances: 569\\n\\n    :Number of Attributes: 30 numeric, predictive attributes and the class\\n\\n    :Attribute Information:\\n        - radius (mean of distances from center to points on the perimeter)\\n        - texture (standard deviation of gray-scale values)\\n        - perimeter\\n        - area\\n        - smoothness (local variation in radius lengths)\\n        - compactness (perimeter^2 / area - 1.0)\\n        - concavity (severity of concave portions of the contour)\\n        - concave points (number of concave portions of the contour)\\n        - symmetry\\n        - fractal dimension (\"coastline approximation\" - 1)\\n\\n        The mean, standard error, and \"worst\" or largest (mean of the three\\n        worst/largest values) of these features were computed for each image,\\n        resulting in 30 features.  For instance, field 0 is Mean Radius, field\\n        10 is Radius SE, field 20 is Worst Radius.\\n\\n        - class:\\n                - WDBC-Malignant\\n                - WDBC-Benign\\n\\n    :Summary Statistics:\\n\\n    ===================================== ====== ======\\n                                           Min    Max\\n    ===================================== ====== ======\\n    radius (mean):                        6.981  28.11\\n    texture (mean):                       9.71   39.28\\n    perimeter (mean):                     43.79  188.5\\n    area (mean):                          143.5  2501.0\\n    smoothness (mean):                    0.053  0.163\\n    compactness (mean):                   0.019  0.345\\n    concavity (mean):                     0.0    0.427\\n    concave points (mean):                0.0    0.201\\n    symmetry (mean):                      0.106  0.304\\n    fractal dimension (mean):             0.05   0.097\\n    radius (standard error):              0.112  2.873\\n    texture (standard error):             0.36   4.885\\n    perimeter (standard error):           0.757  21.98\\n    area (standard error):                6.802  542.2\\n    smoothness (standard error):          0.002  0.031\\n    compactness (standard error):         0.002  0.135\\n    concavity (standard error):           0.0    0.396\\n    concave points (standard error):      0.0    0.053\\n    symmetry (standard error):            0.008  0.079\\n    fractal dimension (standard error):   0.001  0.03\\n    radius (worst):                       7.93   36.04\\n    texture (worst):                      12.02  49.54\\n    perimeter (worst):                    50.41  251.2\\n    area (worst):                         185.2  4254.0\\n    smoothness (worst):                   0.071  0.223\\n    compactness (worst):                  0.027  1.058\\n    concavity (worst):                    0.0    1.252\\n    concave points (worst):               0.0    0.291\\n    symmetry (worst):                     0.156  0.664\\n    fractal dimension (worst):            0.055  0.208\\n    ===================================== ====== ======\\n\\n    :Missing Attribute Values: None\\n\\n    :Class Distribution: 212 - Malignant, 357 - Benign\\n\\n    :Creator:  Dr. William H. Wolberg, W. Nick Street, Olvi L. Mangasarian\\n\\n    :Donor: Nick Street\\n\\n    :Date: November, 1995\\n\\nThis is a copy of UCI ML Breast Cancer Wisconsin (Diagnostic) datasets.\\nhttps://goo.gl/U2Uwz2\\n\\nFeatures are computed from a digitized image of a fine needle\\naspirate (FNA) of a breast mass.  They describe\\ncharacteristics of the cell nuclei present in the image.\\n\\nSeparating plane described above was obtained using\\nMultisurface Method-Tree (MSM-T) [K. P. Bennett, \"Decision Tree\\nConstruction Via Linear Programming.\" Proceedings of the 4th\\nMidwest Artificial Intelligence and Cognitive Science Society,\\npp. 97-101, 1992], a classification method which uses linear\\nprogramming to construct a decision tree.  Relevant features\\nwere selected using an exhaustive search in the space of 1-4\\nfeatures and 1-3 separating planes.\\n\\nThe actual linear program used to obtain the separating plane\\nin the 3-dimensional space is that described in:\\n[K. P. Bennett and O. L. Mangasarian: \"Robust Linear\\nProgramming Discrimination of Two Linearly Inseparable Sets\",\\nOptimization Methods and Software 1, 1992, 23-34].\\n\\nThis database is also available through the UW CS ftp server:\\n\\nftp ftp.cs.wisc.edu\\ncd math-prog/cpo-dataset/machine-learn/WDBC/\\n\\n.. topic:: References\\n\\n   - W.N. Street, W.H. Wolberg and O.L. Mangasarian. Nuclear feature extraction \\n     for breast tumor diagnosis. IS&T/SPIE 1993 International Symposium on \\n     Electronic Imaging: Science and Technology, volume 1905, pages 861-870,\\n     San Jose, CA, 1993.\\n   - O.L. Mangasarian, W.N. Street and W.H. Wolberg. Breast cancer diagnosis and \\n     prognosis via linear programming. Operations Research, 43(4), pages 570-577, \\n     July-August 1995.\\n   - W.H. Wolberg, W.N. Street, and O.L. Mangasarian. Machine learning techniques\\n     to diagnose breast cancer from fine-needle aspirates. Cancer Letters 77 (1994) \\n     163-171.',\n",
              " 'feature_names': array(['mean radius', 'mean texture', 'mean perimeter', 'mean area',\n",
              "        'mean smoothness', 'mean compactness', 'mean concavity',\n",
              "        'mean concave points', 'mean symmetry', 'mean fractal dimension',\n",
              "        'radius error', 'texture error', 'perimeter error', 'area error',\n",
              "        'smoothness error', 'compactness error', 'concavity error',\n",
              "        'concave points error', 'symmetry error',\n",
              "        'fractal dimension error', 'worst radius', 'worst texture',\n",
              "        'worst perimeter', 'worst area', 'worst smoothness',\n",
              "        'worst compactness', 'worst concavity', 'worst concave points',\n",
              "        'worst symmetry', 'worst fractal dimension'], dtype='<U23'),\n",
              " 'filename': 'breast_cancer.csv',\n",
              " 'data_module': 'sklearn.datasets.data'}"
            ]
          },
          "metadata": {},
          "execution_count": 5
        }
      ]
    },
    {
      "cell_type": "code",
      "source": [
        "type(data)"
      ],
      "metadata": {
        "colab": {
          "base_uri": "https://localhost:8080/"
        },
        "id": "64Z9_dWtH5H5",
        "outputId": "d2b84b1a-281d-4689-f836-9dad04f5d3e9"
      },
      "execution_count": 6,
      "outputs": [
        {
          "output_type": "execute_result",
          "data": {
            "text/plain": [
              "sklearn.utils.Bunch"
            ]
          },
          "metadata": {},
          "execution_count": 6
        }
      ]
    },
    {
      "cell_type": "code",
      "source": [
        "data.keys()"
      ],
      "metadata": {
        "colab": {
          "base_uri": "https://localhost:8080/"
        },
        "id": "eYWJDJiTIBsz",
        "outputId": "7ecb5729-fb49-417d-cb72-67b4eb9fc951"
      },
      "execution_count": 7,
      "outputs": [
        {
          "output_type": "execute_result",
          "data": {
            "text/plain": [
              "dict_keys(['data', 'target', 'frame', 'target_names', 'DESCR', 'feature_names', 'filename', 'data_module'])"
            ]
          },
          "metadata": {},
          "execution_count": 7
        }
      ]
    },
    {
      "cell_type": "code",
      "source": [
        "data.data.shape"
      ],
      "metadata": {
        "colab": {
          "base_uri": "https://localhost:8080/"
        },
        "id": "IVrdfOgQIG4K",
        "outputId": "bb983ba7-93c6-498f-cbca-1005e8525716"
      },
      "execution_count": 8,
      "outputs": [
        {
          "output_type": "execute_result",
          "data": {
            "text/plain": [
              "(569, 30)"
            ]
          },
          "metadata": {},
          "execution_count": 8
        }
      ]
    },
    {
      "cell_type": "code",
      "source": [
        "data.target"
      ],
      "metadata": {
        "colab": {
          "base_uri": "https://localhost:8080/"
        },
        "id": "Jrbov05KIRaZ",
        "outputId": "cc5320cd-e7be-4c5b-b4cc-76dd173aab70"
      },
      "execution_count": 9,
      "outputs": [
        {
          "output_type": "execute_result",
          "data": {
            "text/plain": [
              "array([0, 0, 0, 0, 0, 0, 0, 0, 0, 0, 0, 0, 0, 0, 0, 0, 0, 0, 0, 1, 1, 1,\n",
              "       0, 0, 0, 0, 0, 0, 0, 0, 0, 0, 0, 0, 0, 0, 0, 1, 0, 0, 0, 0, 0, 0,\n",
              "       0, 0, 1, 0, 1, 1, 1, 1, 1, 0, 0, 1, 0, 0, 1, 1, 1, 1, 0, 1, 0, 0,\n",
              "       1, 1, 1, 1, 0, 1, 0, 0, 1, 0, 1, 0, 0, 1, 1, 1, 0, 0, 1, 0, 0, 0,\n",
              "       1, 1, 1, 0, 1, 1, 0, 0, 1, 1, 1, 0, 0, 1, 1, 1, 1, 0, 1, 1, 0, 1,\n",
              "       1, 1, 1, 1, 1, 1, 1, 0, 0, 0, 1, 0, 0, 1, 1, 1, 0, 0, 1, 0, 1, 0,\n",
              "       0, 1, 0, 0, 1, 1, 0, 1, 1, 0, 1, 1, 1, 1, 0, 1, 1, 1, 1, 1, 1, 1,\n",
              "       1, 1, 0, 1, 1, 1, 1, 0, 0, 1, 0, 1, 1, 0, 0, 1, 1, 0, 0, 1, 1, 1,\n",
              "       1, 0, 1, 1, 0, 0, 0, 1, 0, 1, 0, 1, 1, 1, 0, 1, 1, 0, 0, 1, 0, 0,\n",
              "       0, 0, 1, 0, 0, 0, 1, 0, 1, 0, 1, 1, 0, 1, 0, 0, 0, 0, 1, 1, 0, 0,\n",
              "       1, 1, 1, 0, 1, 1, 1, 1, 1, 0, 0, 1, 1, 0, 1, 1, 0, 0, 1, 0, 1, 1,\n",
              "       1, 1, 0, 1, 1, 1, 1, 1, 0, 1, 0, 0, 0, 0, 0, 0, 0, 0, 0, 0, 0, 0,\n",
              "       0, 0, 1, 1, 1, 1, 1, 1, 0, 1, 0, 1, 1, 0, 1, 1, 0, 1, 0, 0, 1, 1,\n",
              "       1, 1, 1, 1, 1, 1, 1, 1, 1, 1, 1, 0, 1, 1, 0, 1, 0, 1, 1, 1, 1, 1,\n",
              "       1, 1, 1, 1, 1, 1, 1, 1, 1, 0, 1, 1, 1, 0, 1, 0, 1, 1, 1, 1, 0, 0,\n",
              "       0, 1, 1, 1, 1, 0, 1, 0, 1, 0, 1, 1, 1, 0, 1, 1, 1, 1, 1, 1, 1, 0,\n",
              "       0, 0, 1, 1, 1, 1, 1, 1, 1, 1, 1, 1, 1, 0, 0, 1, 0, 0, 0, 1, 0, 0,\n",
              "       1, 1, 1, 1, 1, 0, 1, 1, 1, 1, 1, 0, 1, 1, 1, 0, 1, 1, 0, 0, 1, 1,\n",
              "       1, 1, 1, 1, 0, 1, 1, 1, 1, 1, 1, 1, 0, 1, 1, 1, 1, 1, 0, 1, 1, 0,\n",
              "       1, 1, 1, 1, 1, 1, 1, 1, 1, 1, 1, 1, 0, 1, 0, 0, 1, 0, 1, 1, 1, 1,\n",
              "       1, 0, 1, 1, 0, 1, 0, 1, 1, 0, 1, 0, 1, 1, 1, 1, 1, 1, 1, 1, 0, 0,\n",
              "       1, 1, 1, 1, 1, 1, 0, 1, 1, 1, 1, 1, 1, 1, 1, 1, 1, 0, 1, 1, 1, 1,\n",
              "       1, 1, 1, 0, 1, 0, 1, 1, 0, 1, 1, 1, 1, 1, 0, 0, 1, 0, 1, 0, 1, 1,\n",
              "       1, 1, 1, 0, 1, 1, 0, 1, 0, 1, 0, 0, 1, 1, 1, 0, 1, 1, 1, 1, 1, 1,\n",
              "       1, 1, 1, 1, 1, 0, 1, 0, 0, 1, 1, 1, 1, 1, 1, 1, 1, 1, 1, 1, 1, 1,\n",
              "       1, 1, 1, 1, 1, 1, 1, 1, 1, 1, 1, 1, 0, 0, 0, 0, 0, 0, 1])"
            ]
          },
          "metadata": {},
          "execution_count": 9
        }
      ]
    },
    {
      "cell_type": "code",
      "source": [
        "data.target_names"
      ],
      "metadata": {
        "colab": {
          "base_uri": "https://localhost:8080/"
        },
        "id": "1kj4Gtn7IrOD",
        "outputId": "531ceddf-67b9-460e-eca2-f8eef09a524c"
      },
      "execution_count": 10,
      "outputs": [
        {
          "output_type": "execute_result",
          "data": {
            "text/plain": [
              "array(['malignant', 'benign'], dtype='<U9')"
            ]
          },
          "metadata": {},
          "execution_count": 10
        }
      ]
    },
    {
      "cell_type": "code",
      "source": [
        "data.target.shape"
      ],
      "metadata": {
        "colab": {
          "base_uri": "https://localhost:8080/"
        },
        "id": "6VaCUs3qJw1u",
        "outputId": "e768a7dc-ae05-4e80-f31d-a2a80e99e72f"
      },
      "execution_count": 11,
      "outputs": [
        {
          "output_type": "execute_result",
          "data": {
            "text/plain": [
              "(569,)"
            ]
          },
          "metadata": {},
          "execution_count": 11
        }
      ]
    },
    {
      "cell_type": "code",
      "source": [
        "data.data"
      ],
      "metadata": {
        "colab": {
          "base_uri": "https://localhost:8080/"
        },
        "id": "wgWqZCZ_J6PF",
        "outputId": "f3562874-a674-4eaa-d3e8-9485f5ac1fa7"
      },
      "execution_count": 12,
      "outputs": [
        {
          "output_type": "execute_result",
          "data": {
            "text/plain": [
              "array([[1.799e+01, 1.038e+01, 1.228e+02, ..., 2.654e-01, 4.601e-01,\n",
              "        1.189e-01],\n",
              "       [2.057e+01, 1.777e+01, 1.329e+02, ..., 1.860e-01, 2.750e-01,\n",
              "        8.902e-02],\n",
              "       [1.969e+01, 2.125e+01, 1.300e+02, ..., 2.430e-01, 3.613e-01,\n",
              "        8.758e-02],\n",
              "       ...,\n",
              "       [1.660e+01, 2.808e+01, 1.083e+02, ..., 1.418e-01, 2.218e-01,\n",
              "        7.820e-02],\n",
              "       [2.060e+01, 2.933e+01, 1.401e+02, ..., 2.650e-01, 4.087e-01,\n",
              "        1.240e-01],\n",
              "       [7.760e+00, 2.454e+01, 4.792e+01, ..., 0.000e+00, 2.871e-01,\n",
              "        7.039e-02]])"
            ]
          },
          "metadata": {},
          "execution_count": 12
        }
      ]
    },
    {
      "cell_type": "code",
      "source": [
        "data.feature_names"
      ],
      "metadata": {
        "colab": {
          "base_uri": "https://localhost:8080/"
        },
        "id": "cpdXMompJ98d",
        "outputId": "205f71b6-51c1-4039-a60b-078da5b05793"
      },
      "execution_count": 13,
      "outputs": [
        {
          "output_type": "execute_result",
          "data": {
            "text/plain": [
              "array(['mean radius', 'mean texture', 'mean perimeter', 'mean area',\n",
              "       'mean smoothness', 'mean compactness', 'mean concavity',\n",
              "       'mean concave points', 'mean symmetry', 'mean fractal dimension',\n",
              "       'radius error', 'texture error', 'perimeter error', 'area error',\n",
              "       'smoothness error', 'compactness error', 'concavity error',\n",
              "       'concave points error', 'symmetry error',\n",
              "       'fractal dimension error', 'worst radius', 'worst texture',\n",
              "       'worst perimeter', 'worst area', 'worst smoothness',\n",
              "       'worst compactness', 'worst concavity', 'worst concave points',\n",
              "       'worst symmetry', 'worst fractal dimension'], dtype='<U23')"
            ]
          },
          "metadata": {},
          "execution_count": 13
        }
      ]
    },
    {
      "cell_type": "code",
      "source": [
        "from sklearn.model_selection import train_test_split\n",
        "\n",
        "X_train, X_test , y_train , y_test = train_test_split(data.data,data.target,test_size=0.33)"
      ],
      "metadata": {
        "id": "gt4u3Bh-KEQr"
      },
      "execution_count": 14,
      "outputs": []
    },
    {
      "cell_type": "code",
      "source": [
        "N,D = X_train.shape"
      ],
      "metadata": {
        "id": "kukDUcF6Lnsq"
      },
      "execution_count": 15,
      "outputs": []
    },
    {
      "cell_type": "code",
      "source": [
        "N, D"
      ],
      "metadata": {
        "colab": {
          "base_uri": "https://localhost:8080/"
        },
        "id": "MsjA2fpkLdo3",
        "outputId": "02fabcfa-cc5c-473a-e57e-fbdd4b87c2cd"
      },
      "execution_count": 16,
      "outputs": [
        {
          "output_type": "execute_result",
          "data": {
            "text/plain": [
              "(381, 30)"
            ]
          },
          "metadata": {},
          "execution_count": 16
        }
      ]
    },
    {
      "cell_type": "code",
      "source": [
        "from sklearn.preprocessing import StandardScaler\n",
        "\n",
        "scaler = StandardScaler()\n",
        "X_train=scaler.fit_transform(X_train)\n",
        "X_test=scaler.transform(X_test)"
      ],
      "metadata": {
        "id": "r-318Aa1LtTO"
      },
      "execution_count": 17,
      "outputs": []
    },
    {
      "cell_type": "code",
      "source": [
        "model = tf.keras.models.Sequential([\n",
        "    tf.keras.layers.Input(shape=(D,)),\n",
        "    tf.keras.layers.Dense(1, activation='sigmoid')\n",
        "])"
      ],
      "metadata": {
        "id": "V2S6NTZsMSzR"
      },
      "execution_count": 18,
      "outputs": []
    },
    {
      "cell_type": "code",
      "source": [
        "model.compile(optimizer='adam',loss='binary_crossentropy',metrics=['accuracy'])"
      ],
      "metadata": {
        "id": "z3nYLjQ2NEPM"
      },
      "execution_count": 19,
      "outputs": []
    },
    {
      "cell_type": "code",
      "source": [
        "r=model.fit(X_train,y_train,validation_data=(X_test,y_test), epochs=100)"
      ],
      "metadata": {
        "colab": {
          "base_uri": "https://localhost:8080/"
        },
        "id": "t3jwW2DJNqAl",
        "outputId": "35fbd36b-c5ea-4ea5-87ed-bb1cf362c9f8"
      },
      "execution_count": 20,
      "outputs": [
        {
          "output_type": "stream",
          "name": "stdout",
          "text": [
            "Epoch 1/100\n",
            "12/12 [==============================] - 2s 33ms/step - loss: 0.8118 - accuracy: 0.4541 - val_loss: 0.7918 - val_accuracy: 0.5213\n",
            "Epoch 2/100\n",
            "12/12 [==============================] - 0s 15ms/step - loss: 0.7259 - accuracy: 0.5459 - val_loss: 0.7125 - val_accuracy: 0.5904\n",
            "Epoch 3/100\n",
            "12/12 [==============================] - 0s 10ms/step - loss: 0.6533 - accuracy: 0.6194 - val_loss: 0.6424 - val_accuracy: 0.6543\n",
            "Epoch 4/100\n",
            "12/12 [==============================] - 0s 18ms/step - loss: 0.5913 - accuracy: 0.6929 - val_loss: 0.5821 - val_accuracy: 0.7021\n",
            "Epoch 5/100\n",
            "12/12 [==============================] - 0s 8ms/step - loss: 0.5372 - accuracy: 0.7480 - val_loss: 0.5319 - val_accuracy: 0.7660\n",
            "Epoch 6/100\n",
            "12/12 [==============================] - 0s 13ms/step - loss: 0.4918 - accuracy: 0.7874 - val_loss: 0.4897 - val_accuracy: 0.8351\n",
            "Epoch 7/100\n",
            "12/12 [==============================] - 0s 15ms/step - loss: 0.4529 - accuracy: 0.8268 - val_loss: 0.4540 - val_accuracy: 0.8670\n",
            "Epoch 8/100\n",
            "12/12 [==============================] - 0s 10ms/step - loss: 0.4203 - accuracy: 0.8478 - val_loss: 0.4231 - val_accuracy: 0.8723\n",
            "Epoch 9/100\n",
            "12/12 [==============================] - 0s 12ms/step - loss: 0.3914 - accuracy: 0.8661 - val_loss: 0.3968 - val_accuracy: 0.8723\n",
            "Epoch 10/100\n",
            "12/12 [==============================] - 0s 10ms/step - loss: 0.3666 - accuracy: 0.8898 - val_loss: 0.3736 - val_accuracy: 0.8830\n",
            "Epoch 11/100\n",
            "12/12 [==============================] - 0s 6ms/step - loss: 0.3447 - accuracy: 0.8950 - val_loss: 0.3533 - val_accuracy: 0.8883\n",
            "Epoch 12/100\n",
            "12/12 [==============================] - 0s 5ms/step - loss: 0.3253 - accuracy: 0.9081 - val_loss: 0.3353 - val_accuracy: 0.8936\n",
            "Epoch 13/100\n",
            "12/12 [==============================] - 0s 5ms/step - loss: 0.3085 - accuracy: 0.9213 - val_loss: 0.3191 - val_accuracy: 0.8989\n",
            "Epoch 14/100\n",
            "12/12 [==============================] - 0s 4ms/step - loss: 0.2928 - accuracy: 0.9265 - val_loss: 0.3050 - val_accuracy: 0.8989\n",
            "Epoch 15/100\n",
            "12/12 [==============================] - 0s 4ms/step - loss: 0.2792 - accuracy: 0.9396 - val_loss: 0.2923 - val_accuracy: 0.9096\n",
            "Epoch 16/100\n",
            "12/12 [==============================] - 0s 5ms/step - loss: 0.2671 - accuracy: 0.9423 - val_loss: 0.2807 - val_accuracy: 0.9255\n",
            "Epoch 17/100\n",
            "12/12 [==============================] - 0s 6ms/step - loss: 0.2558 - accuracy: 0.9501 - val_loss: 0.2704 - val_accuracy: 0.9309\n",
            "Epoch 18/100\n",
            "12/12 [==============================] - 0s 6ms/step - loss: 0.2457 - accuracy: 0.9528 - val_loss: 0.2609 - val_accuracy: 0.9309\n",
            "Epoch 19/100\n",
            "12/12 [==============================] - 0s 10ms/step - loss: 0.2367 - accuracy: 0.9528 - val_loss: 0.2523 - val_accuracy: 0.9362\n",
            "Epoch 20/100\n",
            "12/12 [==============================] - 0s 12ms/step - loss: 0.2284 - accuracy: 0.9501 - val_loss: 0.2443 - val_accuracy: 0.9362\n",
            "Epoch 21/100\n",
            "12/12 [==============================] - 0s 7ms/step - loss: 0.2207 - accuracy: 0.9528 - val_loss: 0.2370 - val_accuracy: 0.9362\n",
            "Epoch 22/100\n",
            "12/12 [==============================] - 0s 5ms/step - loss: 0.2137 - accuracy: 0.9528 - val_loss: 0.2303 - val_accuracy: 0.9362\n",
            "Epoch 23/100\n",
            "12/12 [==============================] - 0s 5ms/step - loss: 0.2071 - accuracy: 0.9554 - val_loss: 0.2242 - val_accuracy: 0.9362\n",
            "Epoch 24/100\n",
            "12/12 [==============================] - 0s 5ms/step - loss: 0.2012 - accuracy: 0.9580 - val_loss: 0.2186 - val_accuracy: 0.9415\n",
            "Epoch 25/100\n",
            "12/12 [==============================] - 0s 5ms/step - loss: 0.1956 - accuracy: 0.9580 - val_loss: 0.2132 - val_accuracy: 0.9415\n",
            "Epoch 26/100\n",
            "12/12 [==============================] - 0s 6ms/step - loss: 0.1905 - accuracy: 0.9580 - val_loss: 0.2082 - val_accuracy: 0.9415\n",
            "Epoch 27/100\n",
            "12/12 [==============================] - 0s 14ms/step - loss: 0.1857 - accuracy: 0.9580 - val_loss: 0.2037 - val_accuracy: 0.9468\n",
            "Epoch 28/100\n",
            "12/12 [==============================] - 0s 8ms/step - loss: 0.1813 - accuracy: 0.9606 - val_loss: 0.1994 - val_accuracy: 0.9521\n",
            "Epoch 29/100\n",
            "12/12 [==============================] - 0s 16ms/step - loss: 0.1771 - accuracy: 0.9606 - val_loss: 0.1953 - val_accuracy: 0.9521\n",
            "Epoch 30/100\n",
            "12/12 [==============================] - 0s 8ms/step - loss: 0.1732 - accuracy: 0.9606 - val_loss: 0.1915 - val_accuracy: 0.9521\n",
            "Epoch 31/100\n",
            "12/12 [==============================] - 0s 8ms/step - loss: 0.1695 - accuracy: 0.9606 - val_loss: 0.1880 - val_accuracy: 0.9521\n",
            "Epoch 32/100\n",
            "12/12 [==============================] - 0s 13ms/step - loss: 0.1661 - accuracy: 0.9633 - val_loss: 0.1845 - val_accuracy: 0.9521\n",
            "Epoch 33/100\n",
            "12/12 [==============================] - 0s 8ms/step - loss: 0.1628 - accuracy: 0.9659 - val_loss: 0.1815 - val_accuracy: 0.9521\n",
            "Epoch 34/100\n",
            "12/12 [==============================] - 0s 13ms/step - loss: 0.1598 - accuracy: 0.9659 - val_loss: 0.1784 - val_accuracy: 0.9521\n",
            "Epoch 35/100\n",
            "12/12 [==============================] - 0s 18ms/step - loss: 0.1568 - accuracy: 0.9659 - val_loss: 0.1757 - val_accuracy: 0.9521\n",
            "Epoch 36/100\n",
            "12/12 [==============================] - 0s 13ms/step - loss: 0.1541 - accuracy: 0.9659 - val_loss: 0.1729 - val_accuracy: 0.9521\n",
            "Epoch 37/100\n",
            "12/12 [==============================] - 0s 7ms/step - loss: 0.1516 - accuracy: 0.9659 - val_loss: 0.1703 - val_accuracy: 0.9521\n",
            "Epoch 38/100\n",
            "12/12 [==============================] - 0s 8ms/step - loss: 0.1490 - accuracy: 0.9659 - val_loss: 0.1679 - val_accuracy: 0.9521\n",
            "Epoch 39/100\n",
            "12/12 [==============================] - 0s 8ms/step - loss: 0.1466 - accuracy: 0.9659 - val_loss: 0.1657 - val_accuracy: 0.9521\n",
            "Epoch 40/100\n",
            "12/12 [==============================] - 0s 13ms/step - loss: 0.1445 - accuracy: 0.9659 - val_loss: 0.1634 - val_accuracy: 0.9521\n",
            "Epoch 41/100\n",
            "12/12 [==============================] - 0s 9ms/step - loss: 0.1424 - accuracy: 0.9659 - val_loss: 0.1613 - val_accuracy: 0.9574\n",
            "Epoch 42/100\n",
            "12/12 [==============================] - 0s 7ms/step - loss: 0.1403 - accuracy: 0.9659 - val_loss: 0.1593 - val_accuracy: 0.9574\n",
            "Epoch 43/100\n",
            "12/12 [==============================] - 0s 10ms/step - loss: 0.1383 - accuracy: 0.9685 - val_loss: 0.1574 - val_accuracy: 0.9628\n",
            "Epoch 44/100\n",
            "12/12 [==============================] - 0s 12ms/step - loss: 0.1365 - accuracy: 0.9685 - val_loss: 0.1556 - val_accuracy: 0.9628\n",
            "Epoch 45/100\n",
            "12/12 [==============================] - 0s 11ms/step - loss: 0.1347 - accuracy: 0.9685 - val_loss: 0.1539 - val_accuracy: 0.9628\n",
            "Epoch 46/100\n",
            "12/12 [==============================] - 0s 16ms/step - loss: 0.1330 - accuracy: 0.9711 - val_loss: 0.1521 - val_accuracy: 0.9628\n",
            "Epoch 47/100\n",
            "12/12 [==============================] - 0s 12ms/step - loss: 0.1313 - accuracy: 0.9711 - val_loss: 0.1506 - val_accuracy: 0.9628\n",
            "Epoch 48/100\n",
            "12/12 [==============================] - 0s 9ms/step - loss: 0.1298 - accuracy: 0.9711 - val_loss: 0.1490 - val_accuracy: 0.9628\n",
            "Epoch 49/100\n",
            "12/12 [==============================] - 0s 9ms/step - loss: 0.1283 - accuracy: 0.9711 - val_loss: 0.1476 - val_accuracy: 0.9628\n",
            "Epoch 50/100\n",
            "12/12 [==============================] - 0s 9ms/step - loss: 0.1268 - accuracy: 0.9711 - val_loss: 0.1461 - val_accuracy: 0.9628\n",
            "Epoch 51/100\n",
            "12/12 [==============================] - 0s 22ms/step - loss: 0.1254 - accuracy: 0.9711 - val_loss: 0.1448 - val_accuracy: 0.9681\n",
            "Epoch 52/100\n",
            "12/12 [==============================] - 0s 23ms/step - loss: 0.1240 - accuracy: 0.9711 - val_loss: 0.1435 - val_accuracy: 0.9681\n",
            "Epoch 53/100\n",
            "12/12 [==============================] - 0s 8ms/step - loss: 0.1228 - accuracy: 0.9711 - val_loss: 0.1421 - val_accuracy: 0.9734\n",
            "Epoch 54/100\n",
            "12/12 [==============================] - 0s 8ms/step - loss: 0.1215 - accuracy: 0.9711 - val_loss: 0.1409 - val_accuracy: 0.9734\n",
            "Epoch 55/100\n",
            "12/12 [==============================] - 0s 10ms/step - loss: 0.1203 - accuracy: 0.9711 - val_loss: 0.1397 - val_accuracy: 0.9734\n",
            "Epoch 56/100\n",
            "12/12 [==============================] - 0s 8ms/step - loss: 0.1191 - accuracy: 0.9738 - val_loss: 0.1385 - val_accuracy: 0.9734\n",
            "Epoch 57/100\n",
            "12/12 [==============================] - 0s 16ms/step - loss: 0.1179 - accuracy: 0.9738 - val_loss: 0.1374 - val_accuracy: 0.9734\n",
            "Epoch 58/100\n",
            "12/12 [==============================] - 0s 16ms/step - loss: 0.1169 - accuracy: 0.9738 - val_loss: 0.1363 - val_accuracy: 0.9734\n",
            "Epoch 59/100\n",
            "12/12 [==============================] - 0s 8ms/step - loss: 0.1158 - accuracy: 0.9738 - val_loss: 0.1352 - val_accuracy: 0.9734\n",
            "Epoch 60/100\n",
            "12/12 [==============================] - 0s 7ms/step - loss: 0.1147 - accuracy: 0.9764 - val_loss: 0.1343 - val_accuracy: 0.9734\n",
            "Epoch 61/100\n",
            "12/12 [==============================] - 0s 8ms/step - loss: 0.1137 - accuracy: 0.9764 - val_loss: 0.1333 - val_accuracy: 0.9734\n",
            "Epoch 62/100\n",
            "12/12 [==============================] - 0s 13ms/step - loss: 0.1128 - accuracy: 0.9764 - val_loss: 0.1323 - val_accuracy: 0.9734\n",
            "Epoch 63/100\n",
            "12/12 [==============================] - 0s 8ms/step - loss: 0.1118 - accuracy: 0.9764 - val_loss: 0.1314 - val_accuracy: 0.9734\n",
            "Epoch 64/100\n",
            "12/12 [==============================] - 0s 7ms/step - loss: 0.1109 - accuracy: 0.9764 - val_loss: 0.1304 - val_accuracy: 0.9734\n",
            "Epoch 65/100\n",
            "12/12 [==============================] - 0s 10ms/step - loss: 0.1100 - accuracy: 0.9764 - val_loss: 0.1295 - val_accuracy: 0.9734\n",
            "Epoch 66/100\n",
            "12/12 [==============================] - 0s 13ms/step - loss: 0.1091 - accuracy: 0.9764 - val_loss: 0.1287 - val_accuracy: 0.9734\n",
            "Epoch 67/100\n",
            "12/12 [==============================] - 0s 8ms/step - loss: 0.1083 - accuracy: 0.9764 - val_loss: 0.1279 - val_accuracy: 0.9734\n",
            "Epoch 68/100\n",
            "12/12 [==============================] - 0s 10ms/step - loss: 0.1075 - accuracy: 0.9764 - val_loss: 0.1271 - val_accuracy: 0.9734\n",
            "Epoch 69/100\n",
            "12/12 [==============================] - 0s 9ms/step - loss: 0.1066 - accuracy: 0.9764 - val_loss: 0.1263 - val_accuracy: 0.9734\n",
            "Epoch 70/100\n",
            "12/12 [==============================] - 0s 8ms/step - loss: 0.1059 - accuracy: 0.9764 - val_loss: 0.1255 - val_accuracy: 0.9734\n",
            "Epoch 71/100\n",
            "12/12 [==============================] - 0s 7ms/step - loss: 0.1051 - accuracy: 0.9764 - val_loss: 0.1248 - val_accuracy: 0.9734\n",
            "Epoch 72/100\n",
            "12/12 [==============================] - 0s 13ms/step - loss: 0.1044 - accuracy: 0.9764 - val_loss: 0.1240 - val_accuracy: 0.9787\n",
            "Epoch 73/100\n",
            "12/12 [==============================] - 0s 9ms/step - loss: 0.1037 - accuracy: 0.9764 - val_loss: 0.1233 - val_accuracy: 0.9787\n",
            "Epoch 74/100\n",
            "12/12 [==============================] - 0s 7ms/step - loss: 0.1030 - accuracy: 0.9764 - val_loss: 0.1227 - val_accuracy: 0.9787\n",
            "Epoch 75/100\n",
            "12/12 [==============================] - 0s 9ms/step - loss: 0.1023 - accuracy: 0.9764 - val_loss: 0.1220 - val_accuracy: 0.9787\n",
            "Epoch 76/100\n",
            "12/12 [==============================] - 0s 10ms/step - loss: 0.1016 - accuracy: 0.9764 - val_loss: 0.1215 - val_accuracy: 0.9787\n",
            "Epoch 77/100\n",
            "12/12 [==============================] - 0s 9ms/step - loss: 0.1009 - accuracy: 0.9764 - val_loss: 0.1208 - val_accuracy: 0.9787\n",
            "Epoch 78/100\n",
            "12/12 [==============================] - 0s 10ms/step - loss: 0.1003 - accuracy: 0.9790 - val_loss: 0.1201 - val_accuracy: 0.9787\n",
            "Epoch 79/100\n",
            "12/12 [==============================] - 0s 7ms/step - loss: 0.0997 - accuracy: 0.9790 - val_loss: 0.1194 - val_accuracy: 0.9787\n",
            "Epoch 80/100\n",
            "12/12 [==============================] - 0s 8ms/step - loss: 0.0991 - accuracy: 0.9790 - val_loss: 0.1188 - val_accuracy: 0.9787\n",
            "Epoch 81/100\n",
            "12/12 [==============================] - 0s 8ms/step - loss: 0.0984 - accuracy: 0.9790 - val_loss: 0.1183 - val_accuracy: 0.9787\n",
            "Epoch 82/100\n",
            "12/12 [==============================] - 0s 10ms/step - loss: 0.0979 - accuracy: 0.9790 - val_loss: 0.1177 - val_accuracy: 0.9787\n",
            "Epoch 83/100\n",
            "12/12 [==============================] - 0s 8ms/step - loss: 0.0973 - accuracy: 0.9790 - val_loss: 0.1171 - val_accuracy: 0.9787\n",
            "Epoch 84/100\n",
            "12/12 [==============================] - 0s 8ms/step - loss: 0.0967 - accuracy: 0.9790 - val_loss: 0.1165 - val_accuracy: 0.9787\n",
            "Epoch 85/100\n",
            "12/12 [==============================] - 0s 11ms/step - loss: 0.0962 - accuracy: 0.9790 - val_loss: 0.1160 - val_accuracy: 0.9787\n",
            "Epoch 86/100\n",
            "12/12 [==============================] - 0s 7ms/step - loss: 0.0956 - accuracy: 0.9790 - val_loss: 0.1155 - val_accuracy: 0.9787\n",
            "Epoch 87/100\n",
            "12/12 [==============================] - 0s 11ms/step - loss: 0.0951 - accuracy: 0.9790 - val_loss: 0.1150 - val_accuracy: 0.9787\n",
            "Epoch 88/100\n",
            "12/12 [==============================] - 0s 11ms/step - loss: 0.0946 - accuracy: 0.9790 - val_loss: 0.1145 - val_accuracy: 0.9787\n",
            "Epoch 89/100\n",
            "12/12 [==============================] - 0s 14ms/step - loss: 0.0941 - accuracy: 0.9790 - val_loss: 0.1140 - val_accuracy: 0.9787\n",
            "Epoch 90/100\n",
            "12/12 [==============================] - 0s 18ms/step - loss: 0.0936 - accuracy: 0.9790 - val_loss: 0.1135 - val_accuracy: 0.9787\n",
            "Epoch 91/100\n",
            "12/12 [==============================] - 0s 11ms/step - loss: 0.0931 - accuracy: 0.9790 - val_loss: 0.1131 - val_accuracy: 0.9787\n",
            "Epoch 92/100\n",
            "12/12 [==============================] - 0s 12ms/step - loss: 0.0926 - accuracy: 0.9790 - val_loss: 0.1126 - val_accuracy: 0.9787\n",
            "Epoch 93/100\n",
            "12/12 [==============================] - 0s 15ms/step - loss: 0.0921 - accuracy: 0.9790 - val_loss: 0.1121 - val_accuracy: 0.9787\n",
            "Epoch 94/100\n",
            "12/12 [==============================] - 0s 16ms/step - loss: 0.0916 - accuracy: 0.9790 - val_loss: 0.1116 - val_accuracy: 0.9787\n",
            "Epoch 95/100\n",
            "12/12 [==============================] - 0s 13ms/step - loss: 0.0912 - accuracy: 0.9790 - val_loss: 0.1112 - val_accuracy: 0.9787\n",
            "Epoch 96/100\n",
            "12/12 [==============================] - 0s 10ms/step - loss: 0.0907 - accuracy: 0.9816 - val_loss: 0.1107 - val_accuracy: 0.9787\n",
            "Epoch 97/100\n",
            "12/12 [==============================] - 0s 9ms/step - loss: 0.0903 - accuracy: 0.9816 - val_loss: 0.1103 - val_accuracy: 0.9787\n",
            "Epoch 98/100\n",
            "12/12 [==============================] - 0s 11ms/step - loss: 0.0899 - accuracy: 0.9816 - val_loss: 0.1099 - val_accuracy: 0.9787\n",
            "Epoch 99/100\n",
            "12/12 [==============================] - 0s 8ms/step - loss: 0.0895 - accuracy: 0.9816 - val_loss: 0.1095 - val_accuracy: 0.9787\n",
            "Epoch 100/100\n",
            "12/12 [==============================] - 0s 14ms/step - loss: 0.0890 - accuracy: 0.9843 - val_loss: 0.1091 - val_accuracy: 0.9787\n"
          ]
        }
      ]
    },
    {
      "cell_type": "code",
      "source": [
        "print(\"Train Score :\",model.evaluate(X_train,y_train))\n",
        "print(\"Test Score :\",model.evaluate(X_test,y_test))"
      ],
      "metadata": {
        "colab": {
          "base_uri": "https://localhost:8080/"
        },
        "id": "wpW_NxSNOTsr",
        "outputId": "a8d3d8a3-9d71-4008-b31b-4989abb95d37"
      },
      "execution_count": 21,
      "outputs": [
        {
          "output_type": "stream",
          "name": "stdout",
          "text": [
            "12/12 [==============================] - 0s 2ms/step - loss: 0.0888 - accuracy: 0.9843\n",
            "Train Score : [0.08881066739559174, 0.9842519760131836]\n",
            "6/6 [==============================] - 0s 2ms/step - loss: 0.1091 - accuracy: 0.9787\n",
            "Test Score : [0.10911804437637329, 0.978723406791687]\n"
          ]
        }
      ]
    },
    {
      "cell_type": "code",
      "source": [
        "import matplotlib.pyplot as plt\n",
        "plt.plot(r.history['loss'],label='loss')\n",
        "plt.plot(r.history['val_loss'],label='val_loss')\n",
        "plt.legend();"
      ],
      "metadata": {
        "colab": {
          "base_uri": "https://localhost:8080/",
          "height": 265
        },
        "id": "CmCjge5NOwn9",
        "outputId": "89fa0048-5610-49c7-f7b6-053f2b24c8dd"
      },
      "execution_count": 22,
      "outputs": [
        {
          "output_type": "display_data",
          "data": {
            "text/plain": [
              "<Figure size 432x288 with 1 Axes>"
            ],
            "image/png": "[encoded data removed]"
          },
          "metadata": {
            "needs_background": "light"
          }
        }
      ]
    },
    {
      "cell_type": "code",
      "source": [
        "plt.plot(r.history['accuracy'],label='acc')\n",
        "plt.plot(r.history['val_accuracy'],label='val_acc')\n",
        "plt.legend();"
      ],
      "metadata": {
        "colab": {
          "base_uri": "https://localhost:8080/",
          "height": 265
        },
        "id": "rvIJN9rNPR1t",
        "outputId": "8359952e-d8a3-40de-e12e-e4d1543d887a"
      },
      "execution_count": 23,
      "outputs": [
        {
          "output_type": "display_data",
          "data": {
            "text/plain": [
              "<Figure size 432x288 with 1 Axes>"
            ],
            "image/png": "[encoded data removed]"
          },
          "metadata": {
            "needs_background": "light"
          }
        }
      ]
    },
    {
      "cell_type": "markdown",
      "source": [
        "## Part 2"
      ],
      "metadata": {
        "id": "z7KPa0psTTb4"
      }
    },
    {
      "cell_type": "code",
      "source": [
        "P=model.predict(X_test)\n",
        "print(P)"
      ],
      "metadata": {
        "colab": {
          "base_uri": "https://localhost:8080/"
        },
        "id": "u7aHWPxdTVpc",
        "outputId": "92975099-d95f-4929-898f-90188f7cf1a9"
      },
      "execution_count": 25,
      "outputs": [
        {
          "output_type": "stream",
          "name": "stdout",
          "text": [
            "6/6 [==============================] - 0s 2ms/step\n",
            "[[9.66716886e-01]\n",
            " [9.46959078e-01]\n",
            " [9.99944150e-01]\n",
            " [9.61188316e-01]\n",
            " [8.92957509e-01]\n",
            " [5.37971616e-01]\n",
            " [3.19108009e-01]\n",
            " [9.93565738e-01]\n",
            " [6.11798977e-03]\n",
            " [3.49850893e-01]\n",
            " [6.52739778e-02]\n",
            " [9.84697580e-01]\n",
            " [9.07613058e-03]\n",
            " [9.98330414e-01]\n",
            " [9.96664464e-01]\n",
            " [1.21905487e-06]\n",
            " [9.93204474e-01]\n",
            " [8.77062231e-02]\n",
            " [1.97647652e-03]\n",
            " [1.59137130e-01]\n",
            " [9.97791827e-01]\n",
            " [8.66995566e-03]\n",
            " [2.07406431e-01]\n",
            " [9.41336632e-01]\n",
            " [7.55848169e-01]\n",
            " [9.91778433e-01]\n",
            " [9.87869203e-01]\n",
            " [9.80161786e-01]\n",
            " [4.18137200e-02]\n",
            " [7.77207911e-01]\n",
            " [7.82967925e-01]\n",
            " [9.96542275e-01]\n",
            " [3.49163264e-01]\n",
            " [8.57880771e-01]\n",
            " [2.02932406e-05]\n",
            " [8.19256842e-01]\n",
            " [9.50151384e-01]\n",
            " [9.94347394e-01]\n",
            " [9.98273432e-01]\n",
            " [9.86529291e-01]\n",
            " [1.89693543e-04]\n",
            " [8.52200150e-01]\n",
            " [9.33360100e-01]\n",
            " [1.40297553e-02]\n",
            " [1.96636785e-02]\n",
            " [9.99033391e-01]\n",
            " [4.42681164e-01]\n",
            " [9.98741388e-01]\n",
            " [9.96404231e-01]\n",
            " [1.16596349e-01]\n",
            " [8.60769418e-04]\n",
            " [9.99112844e-01]\n",
            " [2.22026298e-04]\n",
            " [6.70605898e-01]\n",
            " [9.79155838e-01]\n",
            " [4.15722578e-04]\n",
            " [9.91928339e-01]\n",
            " [9.63412464e-01]\n",
            " [9.33323681e-01]\n",
            " [9.99943078e-01]\n",
            " [5.02078990e-07]\n",
            " [9.14945547e-03]\n",
            " [1.55435745e-02]\n",
            " [9.99005497e-01]\n",
            " [1.41027356e-02]\n",
            " [3.80216539e-01]\n",
            " [3.49407881e-01]\n",
            " [9.14843559e-01]\n",
            " [3.63577623e-03]\n",
            " [5.09949178e-02]\n",
            " [9.98841882e-01]\n",
            " [9.92528677e-01]\n",
            " [4.72296864e-01]\n",
            " [7.04755262e-03]\n",
            " [9.87586737e-01]\n",
            " [9.61956382e-01]\n",
            " [6.94366217e-01]\n",
            " [9.54320073e-01]\n",
            " [9.83251214e-01]\n",
            " [9.59727526e-01]\n",
            " [6.73042417e-01]\n",
            " [7.79333850e-03]\n",
            " [9.77153838e-01]\n",
            " [8.02205563e-01]\n",
            " [9.61836874e-01]\n",
            " [9.89077091e-01]\n",
            " [2.17530667e-03]\n",
            " [9.65610445e-01]\n",
            " [9.64282453e-01]\n",
            " [9.97696579e-01]\n",
            " [8.98300529e-01]\n",
            " [9.64280486e-01]\n",
            " [9.88731146e-01]\n",
            " [1.71303470e-02]\n",
            " [2.83905280e-07]\n",
            " [9.94523168e-01]\n",
            " [9.95685816e-01]\n",
            " [9.77695644e-01]\n",
            " [1.05493739e-02]\n",
            " [9.88600016e-01]\n",
            " [9.96129632e-01]\n",
            " [8.40697289e-01]\n",
            " [9.63834226e-01]\n",
            " [7.57248759e-01]\n",
            " [9.19930518e-01]\n",
            " [9.90430355e-01]\n",
            " [9.95794117e-01]\n",
            " [4.76348072e-01]\n",
            " [7.73533247e-05]\n",
            " [5.32932300e-03]\n",
            " [9.99759972e-01]\n",
            " [9.73464131e-01]\n",
            " [9.89014089e-01]\n",
            " [8.84704709e-01]\n",
            " [9.98571038e-01]\n",
            " [9.97510791e-01]\n",
            " [9.67557669e-01]\n",
            " [9.87792552e-01]\n",
            " [9.98184144e-01]\n",
            " [2.84965895e-03]\n",
            " [9.11849082e-01]\n",
            " [9.97828960e-01]\n",
            " [8.76186907e-01]\n",
            " [8.79266560e-01]\n",
            " [3.06845397e-01]\n",
            " [3.16809886e-03]\n",
            " [9.44440663e-02]\n",
            " [9.98795986e-01]\n",
            " [6.35636568e-01]\n",
            " [4.72864974e-03]\n",
            " [9.81063962e-01]\n",
            " [9.37792778e-01]\n",
            " [9.47269499e-01]\n",
            " [7.13539248e-06]\n",
            " [9.88631606e-01]\n",
            " [9.84336734e-01]\n",
            " [9.87688601e-01]\n",
            " [8.60947825e-04]\n",
            " [1.95468636e-03]\n",
            " [9.99902606e-01]\n",
            " [3.11041404e-05]\n",
            " [9.97572780e-01]\n",
            " [9.97842908e-01]\n",
            " [9.75547671e-01]\n",
            " [7.65399635e-03]\n",
            " [9.92060721e-01]\n",
            " [1.96301751e-02]\n",
            " [5.06593168e-01]\n",
            " [2.00339243e-01]\n",
            " [9.92320478e-01]\n",
            " [4.94876895e-06]\n",
            " [2.09108248e-06]\n",
            " [1.34041284e-05]\n",
            " [9.97132480e-01]\n",
            " [9.68055129e-01]\n",
            " [9.45288122e-01]\n",
            " [9.97279942e-01]\n",
            " [9.55199242e-01]\n",
            " [8.70474323e-05]\n",
            " [1.11339416e-03]\n",
            " [1.48999121e-03]\n",
            " [5.28580931e-05]\n",
            " [9.79292035e-01]\n",
            " [9.98140693e-01]\n",
            " [2.80285627e-02]\n",
            " [9.15500402e-01]\n",
            " [3.21759433e-02]\n",
            " [9.90876615e-01]\n",
            " [9.77645099e-01]\n",
            " [1.06966691e-02]\n",
            " [1.47169817e-03]\n",
            " [5.90939820e-01]\n",
            " [9.88326252e-01]\n",
            " [9.99106169e-01]\n",
            " [9.67275620e-01]\n",
            " [8.95159185e-01]\n",
            " [9.86006975e-01]\n",
            " [8.19521248e-01]\n",
            " [5.43954829e-03]\n",
            " [8.55313241e-01]\n",
            " [2.51211249e-03]\n",
            " [9.19426620e-01]\n",
            " [1.36329338e-01]\n",
            " [8.99525583e-01]\n",
            " [9.84925807e-01]\n",
            " [9.91691291e-01]\n",
            " [1.07976666e-05]\n",
            " [9.98616338e-01]]\n"
          ]
        }
      ]
    },
    {
      "cell_type": "code",
      "source": [
        "import numpy as np\n",
        "P=np.round(P).flatten()\n",
        "print(P)"
      ],
      "metadata": {
        "colab": {
          "base_uri": "https://localhost:8080/"
        },
        "id": "Y3POOBveT4PH",
        "outputId": "18474228-4779-4f5a-f02f-bfe04747079a"
      },
      "execution_count": 26,
      "outputs": [
        {
          "output_type": "stream",
          "name": "stdout",
          "text": [
            "[1. 1. 1. 1. 1. 1. 0. 1. 0. 0. 0. 1. 0. 1. 1. 0. 1. 0. 0. 0. 1. 0. 0. 1.\n",
            " 1. 1. 1. 1. 0. 1. 1. 1. 0. 1. 0. 1. 1. 1. 1. 1. 0. 1. 1. 0. 0. 1. 0. 1.\n",
            " 1. 0. 0. 1. 0. 1. 1. 0. 1. 1. 1. 1. 0. 0. 0. 1. 0. 0. 0. 1. 0. 0. 1. 1.\n",
            " 0. 0. 1. 1. 1. 1. 1. 1. 1. 0. 1. 1. 1. 1. 0. 1. 1. 1. 1. 1. 1. 0. 0. 1.\n",
            " 1. 1. 0. 1. 1. 1. 1. 1. 1. 1. 1. 0. 0. 0. 1. 1. 1. 1. 1. 1. 1. 1. 1. 0.\n",
            " 1. 1. 1. 1. 0. 0. 0. 1. 1. 0. 1. 1. 1. 0. 1. 1. 1. 0. 0. 1. 0. 1. 1. 1.\n",
            " 0. 1. 0. 1. 0. 1. 0. 0. 0. 1. 1. 1. 1. 1. 0. 0. 0. 0. 1. 1. 0. 1. 0. 1.\n",
            " 1. 0. 0. 1. 1. 1. 1. 1. 1. 1. 0. 1. 0. 1. 0. 1. 1. 1. 0. 1.]\n"
          ]
        }
      ]
    },
    {
      "cell_type": "code",
      "source": [
        "print('Manually calculated accuracy ',np.mean(P==y_test))\n",
        "print('Evaluated accuracy ',model.evaluate(X_test,y_test))"
      ],
      "metadata": {
        "colab": {
          "base_uri": "https://localhost:8080/"
        },
        "id": "nYKzJaMyUAXZ",
        "outputId": "478cee52-7fe5-4478-b86f-ce1037dee873"
      },
      "execution_count": 27,
      "outputs": [
        {
          "output_type": "stream",
          "name": "stdout",
          "text": [
            "Manually calculated accuracy  0.9787234042553191\n",
            "6/6 [==============================] - 0s 4ms/step - loss: 0.1091 - accuracy: 0.9787\n",
            "Evaluated accuracy  [0.10911804437637329, 0.978723406791687]\n"
          ]
        }
      ]
    },
    {
      "cell_type": "code",
      "source": [],
      "metadata": {
        "id": "ALQALb3HUauu"
      },
      "execution_count": null,
      "outputs": []
    }
  ]
}