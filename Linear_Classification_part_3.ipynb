{
  "nbformat": 4,
  "nbformat_minor": 0,
  "metadata": {
    "colab": {
      "provenance": [],
      "authorship_tag": "ABX9TyPPJw1EnqIGE8wmDqDvehI5",
      "include_colab_link": true
    },
    "kernelspec": {
      "name": "python3",
      "display_name": "Python 3"
    },
    "language_info": {
      "name": "python"
    }
  },
  "cells": [
    {
      "cell_type": "markdown",
      "metadata": {
        "id": "view-in-github",
        "colab_type": "text"
      },
      "source": [
        "<a href=\"https://colab.research.google.com/github/tusharbansal22/Tensorflow-Notebooks/blob/main/Linear_Classification_part_3.ipynb\" target=\"_parent\"><img src=\"https://colab.research.google.com/assets/colab-badge.svg\" alt=\"Open In Colab\"/></a>"
      ]
    },
    {
      "cell_type": "code",
      "execution_count": null,
      "metadata": {
        "colab": {
          "base_uri": "https://localhost:8080/"
        },
        "id": "xKoBVfffGUuQ",
        "outputId": "b290a9cf-d08f-430e-c1e9-2ad824ad4d69"
      },
      "outputs": [
        {
          "output_type": "stream",
          "name": "stdout",
          "text": [
            "2.9.2\n"
          ]
        }
      ],
      "source": [
        "import tensorflow as tf\n",
        "print(tf.__version__)"
      ]
    },
    {
      "cell_type": "code",
      "source": [
        "from sklearn.datasets import load_breast_cancer"
      ],
      "metadata": {
        "id": "e_UPkrPRG0v2"
      },
      "execution_count": null,
      "outputs": []
    },
    {
      "cell_type": "code",
      "source": [
        "data=load_breast_cancer()"
      ],
      "metadata": {
        "id": "bKzIwLENHeX4"
      },
      "execution_count": null,
      "outputs": []
    },
    {
      "cell_type": "code",
      "source": [
        "data"
      ],
      "metadata": {
        "colab": {
          "base_uri": "https://localhost:8080/"
        },
        "id": "3xqkb1qYH4fN",
        "outputId": "f3502b18-348c-49b4-c0f9-c196c522db86"
      },
      "execution_count": null,
      "outputs": [
        {
          "output_type": "execute_result",
          "data": {
            "text/plain": [
              "{'data': array([[1.799e+01, 1.038e+01, 1.228e+02, ..., 2.654e-01, 4.601e-01,\n",
              "         1.189e-01],\n",
              "        [2.057e+01, 1.777e+01, 1.329e+02, ..., 1.860e-01, 2.750e-01,\n",
              "         8.902e-02],\n",
              "        [1.969e+01, 2.125e+01, 1.300e+02, ..., 2.430e-01, 3.613e-01,\n",
              "         8.758e-02],\n",
              "        ...,\n",
              "        [1.660e+01, 2.808e+01, 1.083e+02, ..., 1.418e-01, 2.218e-01,\n",
              "         7.820e-02],\n",
              "        [2.060e+01, 2.933e+01, 1.401e+02, ..., 2.650e-01, 4.087e-01,\n",
              "         1.240e-01],\n",
              "        [7.760e+00, 2.454e+01, 4.792e+01, ..., 0.000e+00, 2.871e-01,\n",
              "         7.039e-02]]),\n",
              " 'target': array([0, 0, 0, 0, 0, 0, 0, 0, 0, 0, 0, 0, 0, 0, 0, 0, 0, 0, 0, 1, 1, 1,\n",
              "        0, 0, 0, 0, 0, 0, 0, 0, 0, 0, 0, 0, 0, 0, 0, 1, 0, 0, 0, 0, 0, 0,\n",
              "        0, 0, 1, 0, 1, 1, 1, 1, 1, 0, 0, 1, 0, 0, 1, 1, 1, 1, 0, 1, 0, 0,\n",
              "        1, 1, 1, 1, 0, 1, 0, 0, 1, 0, 1, 0, 0, 1, 1, 1, 0, 0, 1, 0, 0, 0,\n",
              "        1, 1, 1, 0, 1, 1, 0, 0, 1, 1, 1, 0, 0, 1, 1, 1, 1, 0, 1, 1, 0, 1,\n",
              "        1, 1, 1, 1, 1, 1, 1, 0, 0, 0, 1, 0, 0, 1, 1, 1, 0, 0, 1, 0, 1, 0,\n",
              "        0, 1, 0, 0, 1, 1, 0, 1, 1, 0, 1, 1, 1, 1, 0, 1, 1, 1, 1, 1, 1, 1,\n",
              "        1, 1, 0, 1, 1, 1, 1, 0, 0, 1, 0, 1, 1, 0, 0, 1, 1, 0, 0, 1, 1, 1,\n",
              "        1, 0, 1, 1, 0, 0, 0, 1, 0, 1, 0, 1, 1, 1, 0, 1, 1, 0, 0, 1, 0, 0,\n",
              "        0, 0, 1, 0, 0, 0, 1, 0, 1, 0, 1, 1, 0, 1, 0, 0, 0, 0, 1, 1, 0, 0,\n",
              "        1, 1, 1, 0, 1, 1, 1, 1, 1, 0, 0, 1, 1, 0, 1, 1, 0, 0, 1, 0, 1, 1,\n",
              "        1, 1, 0, 1, 1, 1, 1, 1, 0, 1, 0, 0, 0, 0, 0, 0, 0, 0, 0, 0, 0, 0,\n",
              "        0, 0, 1, 1, 1, 1, 1, 1, 0, 1, 0, 1, 1, 0, 1, 1, 0, 1, 0, 0, 1, 1,\n",
              "        1, 1, 1, 1, 1, 1, 1, 1, 1, 1, 1, 0, 1, 1, 0, 1, 0, 1, 1, 1, 1, 1,\n",
              "        1, 1, 1, 1, 1, 1, 1, 1, 1, 0, 1, 1, 1, 0, 1, 0, 1, 1, 1, 1, 0, 0,\n",
              "        0, 1, 1, 1, 1, 0, 1, 0, 1, 0, 1, 1, 1, 0, 1, 1, 1, 1, 1, 1, 1, 0,\n",
              "        0, 0, 1, 1, 1, 1, 1, 1, 1, 1, 1, 1, 1, 0, 0, 1, 0, 0, 0, 1, 0, 0,\n",
              "        1, 1, 1, 1, 1, 0, 1, 1, 1, 1, 1, 0, 1, 1, 1, 0, 1, 1, 0, 0, 1, 1,\n",
              "        1, 1, 1, 1, 0, 1, 1, 1, 1, 1, 1, 1, 0, 1, 1, 1, 1, 1, 0, 1, 1, 0,\n",
              "        1, 1, 1, 1, 1, 1, 1, 1, 1, 1, 1, 1, 0, 1, 0, 0, 1, 0, 1, 1, 1, 1,\n",
              "        1, 0, 1, 1, 0, 1, 0, 1, 1, 0, 1, 0, 1, 1, 1, 1, 1, 1, 1, 1, 0, 0,\n",
              "        1, 1, 1, 1, 1, 1, 0, 1, 1, 1, 1, 1, 1, 1, 1, 1, 1, 0, 1, 1, 1, 1,\n",
              "        1, 1, 1, 0, 1, 0, 1, 1, 0, 1, 1, 1, 1, 1, 0, 0, 1, 0, 1, 0, 1, 1,\n",
              "        1, 1, 1, 0, 1, 1, 0, 1, 0, 1, 0, 0, 1, 1, 1, 0, 1, 1, 1, 1, 1, 1,\n",
              "        1, 1, 1, 1, 1, 0, 1, 0, 0, 1, 1, 1, 1, 1, 1, 1, 1, 1, 1, 1, 1, 1,\n",
              "        1, 1, 1, 1, 1, 1, 1, 1, 1, 1, 1, 1, 0, 0, 0, 0, 0, 0, 1]),\n",
              " 'frame': None,\n",
              " 'target_names': array(['malignant', 'benign'], dtype='<U9'),\n",
              " 'DESCR': '.. _breast_cancer_dataset:\\n\\nBreast cancer wisconsin (diagnostic) dataset\\n--------------------------------------------\\n\\n**Data Set Characteristics:**\\n\\n    :Number of Instances: 569\\n\\n    :Number of Attributes: 30 numeric, predictive attributes and the class\\n\\n    :Attribute Information:\\n        - radius (mean of distances from center to points on the perimeter)\\n        - texture (standard deviation of gray-scale values)\\n        - perimeter\\n        - area\\n        - smoothness (local variation in radius lengths)\\n        - compactness (perimeter^2 / area - 1.0)\\n        - concavity (severity of concave portions of the contour)\\n        - concave points (number of concave portions of the contour)\\n        - symmetry\\n        - fractal dimension (\"coastline approximation\" - 1)\\n\\n        The mean, standard error, and \"worst\" or largest (mean of the three\\n        worst/largest values) of these features were computed for each image,\\n        resulting in 30 features.  For instance, field 0 is Mean Radius, field\\n        10 is Radius SE, field 20 is Worst Radius.\\n\\n        - class:\\n                - WDBC-Malignant\\n                - WDBC-Benign\\n\\n    :Summary Statistics:\\n\\n    ===================================== ====== ======\\n                                           Min    Max\\n    ===================================== ====== ======\\n    radius (mean):                        6.981  28.11\\n    texture (mean):                       9.71   39.28\\n    perimeter (mean):                     43.79  188.5\\n    area (mean):                          143.5  2501.0\\n    smoothness (mean):                    0.053  0.163\\n    compactness (mean):                   0.019  0.345\\n    concavity (mean):                     0.0    0.427\\n    concave points (mean):                0.0    0.201\\n    symmetry (mean):                      0.106  0.304\\n    fractal dimension (mean):             0.05   0.097\\n    radius (standard error):              0.112  2.873\\n    texture (standard error):             0.36   4.885\\n    perimeter (standard error):           0.757  21.98\\n    area (standard error):                6.802  542.2\\n    smoothness (standard error):          0.002  0.031\\n    compactness (standard error):         0.002  0.135\\n    concavity (standard error):           0.0    0.396\\n    concave points (standard error):      0.0    0.053\\n    symmetry (standard error):            0.008  0.079\\n    fractal dimension (standard error):   0.001  0.03\\n    radius (worst):                       7.93   36.04\\n    texture (worst):                      12.02  49.54\\n    perimeter (worst):                    50.41  251.2\\n    area (worst):                         185.2  4254.0\\n    smoothness (worst):                   0.071  0.223\\n    compactness (worst):                  0.027  1.058\\n    concavity (worst):                    0.0    1.252\\n    concave points (worst):               0.0    0.291\\n    symmetry (worst):                     0.156  0.664\\n    fractal dimension (worst):            0.055  0.208\\n    ===================================== ====== ======\\n\\n    :Missing Attribute Values: None\\n\\n    :Class Distribution: 212 - Malignant, 357 - Benign\\n\\n    :Creator:  Dr. William H. Wolberg, W. Nick Street, Olvi L. Mangasarian\\n\\n    :Donor: Nick Street\\n\\n    :Date: November, 1995\\n\\nThis is a copy of UCI ML Breast Cancer Wisconsin (Diagnostic) datasets.\\nhttps://goo.gl/U2Uwz2\\n\\nFeatures are computed from a digitized image of a fine needle\\naspirate (FNA) of a breast mass.  They describe\\ncharacteristics of the cell nuclei present in the image.\\n\\nSeparating plane described above was obtained using\\nMultisurface Method-Tree (MSM-T) [K. P. Bennett, \"Decision Tree\\nConstruction Via Linear Programming.\" Proceedings of the 4th\\nMidwest Artificial Intelligence and Cognitive Science Society,\\npp. 97-101, 1992], a classification method which uses linear\\nprogramming to construct a decision tree.  Relevant features\\nwere selected using an exhaustive search in the space of 1-4\\nfeatures and 1-3 separating planes.\\n\\nThe actual linear program used to obtain the separating plane\\nin the 3-dimensional space is that described in:\\n[K. P. Bennett and O. L. Mangasarian: \"Robust Linear\\nProgramming Discrimination of Two Linearly Inseparable Sets\",\\nOptimization Methods and Software 1, 1992, 23-34].\\n\\nThis database is also available through the UW CS ftp server:\\n\\nftp ftp.cs.wisc.edu\\ncd math-prog/cpo-dataset/machine-learn/WDBC/\\n\\n.. topic:: References\\n\\n   - W.N. Street, W.H. Wolberg and O.L. Mangasarian. Nuclear feature extraction \\n     for breast tumor diagnosis. IS&T/SPIE 1993 International Symposium on \\n     Electronic Imaging: Science and Technology, volume 1905, pages 861-870,\\n     San Jose, CA, 1993.\\n   - O.L. Mangasarian, W.N. Street and W.H. Wolberg. Breast cancer diagnosis and \\n     prognosis via linear programming. Operations Research, 43(4), pages 570-577, \\n     July-August 1995.\\n   - W.H. Wolberg, W.N. Street, and O.L. Mangasarian. Machine learning techniques\\n     to diagnose breast cancer from fine-needle aspirates. Cancer Letters 77 (1994) \\n     163-171.',\n",
              " 'feature_names': array(['mean radius', 'mean texture', 'mean perimeter', 'mean area',\n",
              "        'mean smoothness', 'mean compactness', 'mean concavity',\n",
              "        'mean concave points', 'mean symmetry', 'mean fractal dimension',\n",
              "        'radius error', 'texture error', 'perimeter error', 'area error',\n",
              "        'smoothness error', 'compactness error', 'concavity error',\n",
              "        'concave points error', 'symmetry error',\n",
              "        'fractal dimension error', 'worst radius', 'worst texture',\n",
              "        'worst perimeter', 'worst area', 'worst smoothness',\n",
              "        'worst compactness', 'worst concavity', 'worst concave points',\n",
              "        'worst symmetry', 'worst fractal dimension'], dtype='<U23'),\n",
              " 'filename': 'breast_cancer.csv',\n",
              " 'data_module': 'sklearn.datasets.data'}"
            ]
          },
          "metadata": {},
          "execution_count": 4
        }
      ]
    },
    {
      "cell_type": "code",
      "source": [
        "type(data)"
      ],
      "metadata": {
        "colab": {
          "base_uri": "https://localhost:8080/"
        },
        "id": "64Z9_dWtH5H5",
        "outputId": "cccbea99-11bc-4ab4-ff48-22e87a624038"
      },
      "execution_count": null,
      "outputs": [
        {
          "output_type": "execute_result",
          "data": {
            "text/plain": [
              "sklearn.utils.Bunch"
            ]
          },
          "metadata": {},
          "execution_count": 5
        }
      ]
    },
    {
      "cell_type": "code",
      "source": [
        "data.keys()"
      ],
      "metadata": {
        "colab": {
          "base_uri": "https://localhost:8080/"
        },
        "id": "eYWJDJiTIBsz",
        "outputId": "240cab64-0044-49c4-ac67-f06fbbe449b2"
      },
      "execution_count": null,
      "outputs": [
        {
          "output_type": "execute_result",
          "data": {
            "text/plain": [
              "dict_keys(['data', 'target', 'frame', 'target_names', 'DESCR', 'feature_names', 'filename', 'data_module'])"
            ]
          },
          "metadata": {},
          "execution_count": 6
        }
      ]
    },
    {
      "cell_type": "code",
      "source": [
        "data.data.shape"
      ],
      "metadata": {
        "colab": {
          "base_uri": "https://localhost:8080/"
        },
        "id": "IVrdfOgQIG4K",
        "outputId": "9a9c25e1-37ef-4f06-8e80-ba1a75dcc078"
      },
      "execution_count": null,
      "outputs": [
        {
          "output_type": "execute_result",
          "data": {
            "text/plain": [
              "(569, 30)"
            ]
          },
          "metadata": {},
          "execution_count": 7
        }
      ]
    },
    {
      "cell_type": "code",
      "source": [
        "data.target"
      ],
      "metadata": {
        "colab": {
          "base_uri": "https://localhost:8080/"
        },
        "id": "Jrbov05KIRaZ",
        "outputId": "649fef1a-057b-44ca-cc6d-0df435b779f1"
      },
      "execution_count": null,
      "outputs": [
        {
          "output_type": "execute_result",
          "data": {
            "text/plain": [
              "array([0, 0, 0, 0, 0, 0, 0, 0, 0, 0, 0, 0, 0, 0, 0, 0, 0, 0, 0, 1, 1, 1,\n",
              "       0, 0, 0, 0, 0, 0, 0, 0, 0, 0, 0, 0, 0, 0, 0, 1, 0, 0, 0, 0, 0, 0,\n",
              "       0, 0, 1, 0, 1, 1, 1, 1, 1, 0, 0, 1, 0, 0, 1, 1, 1, 1, 0, 1, 0, 0,\n",
              "       1, 1, 1, 1, 0, 1, 0, 0, 1, 0, 1, 0, 0, 1, 1, 1, 0, 0, 1, 0, 0, 0,\n",
              "       1, 1, 1, 0, 1, 1, 0, 0, 1, 1, 1, 0, 0, 1, 1, 1, 1, 0, 1, 1, 0, 1,\n",
              "       1, 1, 1, 1, 1, 1, 1, 0, 0, 0, 1, 0, 0, 1, 1, 1, 0, 0, 1, 0, 1, 0,\n",
              "       0, 1, 0, 0, 1, 1, 0, 1, 1, 0, 1, 1, 1, 1, 0, 1, 1, 1, 1, 1, 1, 1,\n",
              "       1, 1, 0, 1, 1, 1, 1, 0, 0, 1, 0, 1, 1, 0, 0, 1, 1, 0, 0, 1, 1, 1,\n",
              "       1, 0, 1, 1, 0, 0, 0, 1, 0, 1, 0, 1, 1, 1, 0, 1, 1, 0, 0, 1, 0, 0,\n",
              "       0, 0, 1, 0, 0, 0, 1, 0, 1, 0, 1, 1, 0, 1, 0, 0, 0, 0, 1, 1, 0, 0,\n",
              "       1, 1, 1, 0, 1, 1, 1, 1, 1, 0, 0, 1, 1, 0, 1, 1, 0, 0, 1, 0, 1, 1,\n",
              "       1, 1, 0, 1, 1, 1, 1, 1, 0, 1, 0, 0, 0, 0, 0, 0, 0, 0, 0, 0, 0, 0,\n",
              "       0, 0, 1, 1, 1, 1, 1, 1, 0, 1, 0, 1, 1, 0, 1, 1, 0, 1, 0, 0, 1, 1,\n",
              "       1, 1, 1, 1, 1, 1, 1, 1, 1, 1, 1, 0, 1, 1, 0, 1, 0, 1, 1, 1, 1, 1,\n",
              "       1, 1, 1, 1, 1, 1, 1, 1, 1, 0, 1, 1, 1, 0, 1, 0, 1, 1, 1, 1, 0, 0,\n",
              "       0, 1, 1, 1, 1, 0, 1, 0, 1, 0, 1, 1, 1, 0, 1, 1, 1, 1, 1, 1, 1, 0,\n",
              "       0, 0, 1, 1, 1, 1, 1, 1, 1, 1, 1, 1, 1, 0, 0, 1, 0, 0, 0, 1, 0, 0,\n",
              "       1, 1, 1, 1, 1, 0, 1, 1, 1, 1, 1, 0, 1, 1, 1, 0, 1, 1, 0, 0, 1, 1,\n",
              "       1, 1, 1, 1, 0, 1, 1, 1, 1, 1, 1, 1, 0, 1, 1, 1, 1, 1, 0, 1, 1, 0,\n",
              "       1, 1, 1, 1, 1, 1, 1, 1, 1, 1, 1, 1, 0, 1, 0, 0, 1, 0, 1, 1, 1, 1,\n",
              "       1, 0, 1, 1, 0, 1, 0, 1, 1, 0, 1, 0, 1, 1, 1, 1, 1, 1, 1, 1, 0, 0,\n",
              "       1, 1, 1, 1, 1, 1, 0, 1, 1, 1, 1, 1, 1, 1, 1, 1, 1, 0, 1, 1, 1, 1,\n",
              "       1, 1, 1, 0, 1, 0, 1, 1, 0, 1, 1, 1, 1, 1, 0, 0, 1, 0, 1, 0, 1, 1,\n",
              "       1, 1, 1, 0, 1, 1, 0, 1, 0, 1, 0, 0, 1, 1, 1, 0, 1, 1, 1, 1, 1, 1,\n",
              "       1, 1, 1, 1, 1, 0, 1, 0, 0, 1, 1, 1, 1, 1, 1, 1, 1, 1, 1, 1, 1, 1,\n",
              "       1, 1, 1, 1, 1, 1, 1, 1, 1, 1, 1, 1, 0, 0, 0, 0, 0, 0, 1])"
            ]
          },
          "metadata": {},
          "execution_count": 8
        }
      ]
    },
    {
      "cell_type": "code",
      "source": [
        "data.target_names"
      ],
      "metadata": {
        "colab": {
          "base_uri": "https://localhost:8080/"
        },
        "id": "1kj4Gtn7IrOD",
        "outputId": "7bf1e360-3fcb-4da8-88b8-307a7ce47ac9"
      },
      "execution_count": null,
      "outputs": [
        {
          "output_type": "execute_result",
          "data": {
            "text/plain": [
              "array(['malignant', 'benign'], dtype='<U9')"
            ]
          },
          "metadata": {},
          "execution_count": 9
        }
      ]
    },
    {
      "cell_type": "code",
      "source": [
        "data.target.shape"
      ],
      "metadata": {
        "colab": {
          "base_uri": "https://localhost:8080/"
        },
        "id": "6VaCUs3qJw1u",
        "outputId": "a2e7c2a5-8732-40d3-a5a0-4ee502faadfb"
      },
      "execution_count": null,
      "outputs": [
        {
          "output_type": "execute_result",
          "data": {
            "text/plain": [
              "(569,)"
            ]
          },
          "metadata": {},
          "execution_count": 10
        }
      ]
    },
    {
      "cell_type": "code",
      "source": [
        "data.data"
      ],
      "metadata": {
        "colab": {
          "base_uri": "https://localhost:8080/"
        },
        "id": "wgWqZCZ_J6PF",
        "outputId": "1a8f4e65-78e2-4d61-eb23-e49cf1cf702b"
      },
      "execution_count": null,
      "outputs": [
        {
          "output_type": "execute_result",
          "data": {
            "text/plain": [
              "array([[1.799e+01, 1.038e+01, 1.228e+02, ..., 2.654e-01, 4.601e-01,\n",
              "        1.189e-01],\n",
              "       [2.057e+01, 1.777e+01, 1.329e+02, ..., 1.860e-01, 2.750e-01,\n",
              "        8.902e-02],\n",
              "       [1.969e+01, 2.125e+01, 1.300e+02, ..., 2.430e-01, 3.613e-01,\n",
              "        8.758e-02],\n",
              "       ...,\n",
              "       [1.660e+01, 2.808e+01, 1.083e+02, ..., 1.418e-01, 2.218e-01,\n",
              "        7.820e-02],\n",
              "       [2.060e+01, 2.933e+01, 1.401e+02, ..., 2.650e-01, 4.087e-01,\n",
              "        1.240e-01],\n",
              "       [7.760e+00, 2.454e+01, 4.792e+01, ..., 0.000e+00, 2.871e-01,\n",
              "        7.039e-02]])"
            ]
          },
          "metadata": {},
          "execution_count": 11
        }
      ]
    },
    {
      "cell_type": "code",
      "source": [
        "data.feature_names"
      ],
      "metadata": {
        "colab": {
          "base_uri": "https://localhost:8080/"
        },
        "id": "cpdXMompJ98d",
        "outputId": "3e68ad7c-211b-4c14-da1e-a299ec8a16fd"
      },
      "execution_count": null,
      "outputs": [
        {
          "output_type": "execute_result",
          "data": {
            "text/plain": [
              "array(['mean radius', 'mean texture', 'mean perimeter', 'mean area',\n",
              "       'mean smoothness', 'mean compactness', 'mean concavity',\n",
              "       'mean concave points', 'mean symmetry', 'mean fractal dimension',\n",
              "       'radius error', 'texture error', 'perimeter error', 'area error',\n",
              "       'smoothness error', 'compactness error', 'concavity error',\n",
              "       'concave points error', 'symmetry error',\n",
              "       'fractal dimension error', 'worst radius', 'worst texture',\n",
              "       'worst perimeter', 'worst area', 'worst smoothness',\n",
              "       'worst compactness', 'worst concavity', 'worst concave points',\n",
              "       'worst symmetry', 'worst fractal dimension'], dtype='<U23')"
            ]
          },
          "metadata": {},
          "execution_count": 12
        }
      ]
    },
    {
      "cell_type": "code",
      "source": [
        "from sklearn.model_selection import train_test_split\n",
        "\n",
        "X_train, X_test , y_train , y_test = train_test_split(data.data,data.target,test_size=0.33)"
      ],
      "metadata": {
        "id": "gt4u3Bh-KEQr"
      },
      "execution_count": null,
      "outputs": []
    },
    {
      "cell_type": "code",
      "source": [
        "N,D = X_train.shape"
      ],
      "metadata": {
        "id": "kukDUcF6Lnsq"
      },
      "execution_count": null,
      "outputs": []
    },
    {
      "cell_type": "code",
      "source": [
        "N, D"
      ],
      "metadata": {
        "colab": {
          "base_uri": "https://localhost:8080/"
        },
        "id": "MsjA2fpkLdo3",
        "outputId": "e41040cf-d99a-404b-f869-3f387bd21720"
      },
      "execution_count": null,
      "outputs": [
        {
          "output_type": "execute_result",
          "data": {
            "text/plain": [
              "(381, 30)"
            ]
          },
          "metadata": {},
          "execution_count": 15
        }
      ]
    },
    {
      "cell_type": "code",
      "source": [
        "from sklearn.preprocessing import StandardScaler\n",
        "\n",
        "scaler = StandardScaler()\n",
        "X_train=scaler.fit_transform(X_train)\n",
        "X_test=scaler.transform(X_test)"
      ],
      "metadata": {
        "id": "r-318Aa1LtTO"
      },
      "execution_count": null,
      "outputs": []
    },
    {
      "cell_type": "code",
      "source": [
        "model = tf.keras.models.Sequential([\n",
        "    tf.keras.layers.Input(shape=(D,)),\n",
        "    tf.keras.layers.Dense(1, activation='sigmoid')\n",
        "])"
      ],
      "metadata": {
        "id": "V2S6NTZsMSzR"
      },
      "execution_count": null,
      "outputs": []
    },
    {
      "cell_type": "code",
      "source": [
        "model.compile(optimizer='adam',loss='binary_crossentropy',metrics=['accuracy'])"
      ],
      "metadata": {
        "id": "z3nYLjQ2NEPM"
      },
      "execution_count": null,
      "outputs": []
    },
    {
      "cell_type": "code",
      "source": [
        "r=model.fit(X_train,y_train,validation_data=(X_test,y_test), epochs=100)"
      ],
      "metadata": {
        "colab": {
          "base_uri": "https://localhost:8080/"
        },
        "id": "t3jwW2DJNqAl",
        "outputId": "9bf52f51-482b-42dc-dc7d-c7b27294f660"
      },
      "execution_count": null,
      "outputs": [
        {
          "output_type": "stream",
          "name": "stdout",
          "text": [
            "Epoch 1/100\n",
            "12/12 [==============================] - 3s 115ms/step - loss: 0.6559 - accuracy: 0.6247 - val_loss: 0.6223 - val_accuracy: 0.6330\n",
            "Epoch 2/100\n",
            "12/12 [==============================] - 0s 26ms/step - loss: 0.5827 - accuracy: 0.6982 - val_loss: 0.5570 - val_accuracy: 0.7181\n",
            "Epoch 3/100\n",
            "12/12 [==============================] - 0s 17ms/step - loss: 0.5230 - accuracy: 0.7585 - val_loss: 0.5009 - val_accuracy: 0.7766\n",
            "Epoch 4/100\n",
            "12/12 [==============================] - 0s 18ms/step - loss: 0.4726 - accuracy: 0.8346 - val_loss: 0.4543 - val_accuracy: 0.8404\n",
            "Epoch 5/100\n",
            "12/12 [==============================] - 0s 29ms/step - loss: 0.4311 - accuracy: 0.8793 - val_loss: 0.4160 - val_accuracy: 0.8617\n",
            "Epoch 6/100\n",
            "12/12 [==============================] - 0s 25ms/step - loss: 0.3986 - accuracy: 0.8976 - val_loss: 0.3832 - val_accuracy: 0.8989\n",
            "Epoch 7/100\n",
            "12/12 [==============================] - 0s 13ms/step - loss: 0.3699 - accuracy: 0.9081 - val_loss: 0.3565 - val_accuracy: 0.9149\n",
            "Epoch 8/100\n",
            "12/12 [==============================] - 0s 20ms/step - loss: 0.3473 - accuracy: 0.9213 - val_loss: 0.3330 - val_accuracy: 0.9149\n",
            "Epoch 9/100\n",
            "12/12 [==============================] - 0s 17ms/step - loss: 0.3268 - accuracy: 0.9265 - val_loss: 0.3135 - val_accuracy: 0.9309\n",
            "Epoch 10/100\n",
            "12/12 [==============================] - 0s 28ms/step - loss: 0.3097 - accuracy: 0.9239 - val_loss: 0.2967 - val_accuracy: 0.9415\n",
            "Epoch 11/100\n",
            "12/12 [==============================] - 0s 36ms/step - loss: 0.2950 - accuracy: 0.9265 - val_loss: 0.2816 - val_accuracy: 0.9468\n",
            "Epoch 12/100\n",
            "12/12 [==============================] - 0s 16ms/step - loss: 0.2818 - accuracy: 0.9239 - val_loss: 0.2685 - val_accuracy: 0.9468\n",
            "Epoch 13/100\n",
            "12/12 [==============================] - 0s 21ms/step - loss: 0.2701 - accuracy: 0.9318 - val_loss: 0.2570 - val_accuracy: 0.9468\n",
            "Epoch 14/100\n",
            "12/12 [==============================] - 0s 23ms/step - loss: 0.2599 - accuracy: 0.9344 - val_loss: 0.2463 - val_accuracy: 0.9468\n",
            "Epoch 15/100\n",
            "12/12 [==============================] - 0s 38ms/step - loss: 0.2505 - accuracy: 0.9344 - val_loss: 0.2368 - val_accuracy: 0.9521\n",
            "Epoch 16/100\n",
            "12/12 [==============================] - 0s 23ms/step - loss: 0.2418 - accuracy: 0.9370 - val_loss: 0.2286 - val_accuracy: 0.9521\n",
            "Epoch 17/100\n",
            "12/12 [==============================] - 0s 32ms/step - loss: 0.2342 - accuracy: 0.9396 - val_loss: 0.2207 - val_accuracy: 0.9468\n",
            "Epoch 18/100\n",
            "12/12 [==============================] - 0s 19ms/step - loss: 0.2270 - accuracy: 0.9423 - val_loss: 0.2135 - val_accuracy: 0.9468\n",
            "Epoch 19/100\n",
            "12/12 [==============================] - 1s 44ms/step - loss: 0.2204 - accuracy: 0.9423 - val_loss: 0.2071 - val_accuracy: 0.9521\n",
            "Epoch 20/100\n",
            "12/12 [==============================] - 0s 35ms/step - loss: 0.2145 - accuracy: 0.9423 - val_loss: 0.2009 - val_accuracy: 0.9574\n",
            "Epoch 21/100\n",
            "12/12 [==============================] - 0s 42ms/step - loss: 0.2087 - accuracy: 0.9475 - val_loss: 0.1957 - val_accuracy: 0.9574\n",
            "Epoch 22/100\n",
            "12/12 [==============================] - 0s 21ms/step - loss: 0.2035 - accuracy: 0.9528 - val_loss: 0.1905 - val_accuracy: 0.9574\n",
            "Epoch 23/100\n",
            "12/12 [==============================] - 0s 22ms/step - loss: 0.1985 - accuracy: 0.9528 - val_loss: 0.1857 - val_accuracy: 0.9574\n",
            "Epoch 24/100\n",
            "12/12 [==============================] - 1s 76ms/step - loss: 0.1941 - accuracy: 0.9554 - val_loss: 0.1814 - val_accuracy: 0.9574\n",
            "Epoch 25/100\n",
            "12/12 [==============================] - 1s 48ms/step - loss: 0.1897 - accuracy: 0.9580 - val_loss: 0.1772 - val_accuracy: 0.9574\n",
            "Epoch 26/100\n",
            "12/12 [==============================] - 1s 55ms/step - loss: 0.1857 - accuracy: 0.9580 - val_loss: 0.1731 - val_accuracy: 0.9628\n",
            "Epoch 27/100\n",
            "12/12 [==============================] - 1s 71ms/step - loss: 0.1819 - accuracy: 0.9606 - val_loss: 0.1693 - val_accuracy: 0.9628\n",
            "Epoch 28/100\n",
            "12/12 [==============================] - 0s 28ms/step - loss: 0.1782 - accuracy: 0.9633 - val_loss: 0.1659 - val_accuracy: 0.9628\n",
            "Epoch 29/100\n",
            "12/12 [==============================] - 0s 29ms/step - loss: 0.1749 - accuracy: 0.9633 - val_loss: 0.1625 - val_accuracy: 0.9628\n",
            "Epoch 30/100\n",
            "12/12 [==============================] - 0s 14ms/step - loss: 0.1716 - accuracy: 0.9633 - val_loss: 0.1595 - val_accuracy: 0.9681\n",
            "Epoch 31/100\n",
            "12/12 [==============================] - 0s 24ms/step - loss: 0.1685 - accuracy: 0.9633 - val_loss: 0.1565 - val_accuracy: 0.9681\n",
            "Epoch 32/100\n",
            "12/12 [==============================] - 0s 18ms/step - loss: 0.1656 - accuracy: 0.9659 - val_loss: 0.1539 - val_accuracy: 0.9681\n",
            "Epoch 33/100\n",
            "12/12 [==============================] - 0s 17ms/step - loss: 0.1629 - accuracy: 0.9659 - val_loss: 0.1512 - val_accuracy: 0.9681\n",
            "Epoch 34/100\n",
            "12/12 [==============================] - 0s 17ms/step - loss: 0.1603 - accuracy: 0.9659 - val_loss: 0.1487 - val_accuracy: 0.9681\n",
            "Epoch 35/100\n",
            "12/12 [==============================] - 0s 18ms/step - loss: 0.1577 - accuracy: 0.9685 - val_loss: 0.1463 - val_accuracy: 0.9681\n",
            "Epoch 36/100\n",
            "12/12 [==============================] - 0s 13ms/step - loss: 0.1554 - accuracy: 0.9685 - val_loss: 0.1440 - val_accuracy: 0.9681\n",
            "Epoch 37/100\n",
            "12/12 [==============================] - 0s 28ms/step - loss: 0.1531 - accuracy: 0.9685 - val_loss: 0.1419 - val_accuracy: 0.9681\n",
            "Epoch 38/100\n",
            "12/12 [==============================] - 0s 20ms/step - loss: 0.1509 - accuracy: 0.9685 - val_loss: 0.1398 - val_accuracy: 0.9681\n",
            "Epoch 39/100\n",
            "12/12 [==============================] - 0s 25ms/step - loss: 0.1488 - accuracy: 0.9685 - val_loss: 0.1378 - val_accuracy: 0.9681\n",
            "Epoch 40/100\n",
            "12/12 [==============================] - 0s 21ms/step - loss: 0.1468 - accuracy: 0.9685 - val_loss: 0.1359 - val_accuracy: 0.9681\n",
            "Epoch 41/100\n",
            "12/12 [==============================] - 0s 20ms/step - loss: 0.1449 - accuracy: 0.9711 - val_loss: 0.1341 - val_accuracy: 0.9681\n",
            "Epoch 42/100\n",
            "12/12 [==============================] - 0s 12ms/step - loss: 0.1430 - accuracy: 0.9711 - val_loss: 0.1322 - val_accuracy: 0.9681\n",
            "Epoch 43/100\n",
            "12/12 [==============================] - 0s 25ms/step - loss: 0.1412 - accuracy: 0.9711 - val_loss: 0.1305 - val_accuracy: 0.9681\n",
            "Epoch 44/100\n",
            "12/12 [==============================] - 0s 13ms/step - loss: 0.1396 - accuracy: 0.9711 - val_loss: 0.1289 - val_accuracy: 0.9681\n",
            "Epoch 45/100\n",
            "12/12 [==============================] - 0s 20ms/step - loss: 0.1379 - accuracy: 0.9711 - val_loss: 0.1274 - val_accuracy: 0.9681\n",
            "Epoch 46/100\n",
            "12/12 [==============================] - 0s 17ms/step - loss: 0.1364 - accuracy: 0.9711 - val_loss: 0.1259 - val_accuracy: 0.9734\n",
            "Epoch 47/100\n",
            "12/12 [==============================] - 0s 19ms/step - loss: 0.1348 - accuracy: 0.9711 - val_loss: 0.1244 - val_accuracy: 0.9734\n",
            "Epoch 48/100\n",
            "12/12 [==============================] - 0s 27ms/step - loss: 0.1333 - accuracy: 0.9711 - val_loss: 0.1230 - val_accuracy: 0.9734\n",
            "Epoch 49/100\n",
            "12/12 [==============================] - 0s 18ms/step - loss: 0.1320 - accuracy: 0.9711 - val_loss: 0.1216 - val_accuracy: 0.9734\n",
            "Epoch 50/100\n",
            "12/12 [==============================] - 0s 20ms/step - loss: 0.1306 - accuracy: 0.9711 - val_loss: 0.1203 - val_accuracy: 0.9734\n",
            "Epoch 51/100\n",
            "12/12 [==============================] - 0s 23ms/step - loss: 0.1292 - accuracy: 0.9711 - val_loss: 0.1191 - val_accuracy: 0.9734\n",
            "Epoch 52/100\n",
            "12/12 [==============================] - 0s 21ms/step - loss: 0.1280 - accuracy: 0.9711 - val_loss: 0.1179 - val_accuracy: 0.9734\n",
            "Epoch 53/100\n",
            "12/12 [==============================] - 0s 30ms/step - loss: 0.1268 - accuracy: 0.9738 - val_loss: 0.1167 - val_accuracy: 0.9734\n",
            "Epoch 54/100\n",
            "12/12 [==============================] - 0s 13ms/step - loss: 0.1256 - accuracy: 0.9764 - val_loss: 0.1155 - val_accuracy: 0.9734\n",
            "Epoch 55/100\n",
            "12/12 [==============================] - 0s 11ms/step - loss: 0.1244 - accuracy: 0.9764 - val_loss: 0.1144 - val_accuracy: 0.9734\n",
            "Epoch 56/100\n",
            "12/12 [==============================] - 0s 20ms/step - loss: 0.1233 - accuracy: 0.9764 - val_loss: 0.1133 - val_accuracy: 0.9734\n",
            "Epoch 57/100\n",
            "12/12 [==============================] - 0s 32ms/step - loss: 0.1222 - accuracy: 0.9764 - val_loss: 0.1122 - val_accuracy: 0.9734\n",
            "Epoch 58/100\n",
            "12/12 [==============================] - 0s 19ms/step - loss: 0.1212 - accuracy: 0.9790 - val_loss: 0.1112 - val_accuracy: 0.9734\n",
            "Epoch 59/100\n",
            "12/12 [==============================] - 0s 35ms/step - loss: 0.1202 - accuracy: 0.9790 - val_loss: 0.1102 - val_accuracy: 0.9734\n",
            "Epoch 60/100\n",
            "12/12 [==============================] - 0s 21ms/step - loss: 0.1192 - accuracy: 0.9790 - val_loss: 0.1093 - val_accuracy: 0.9734\n",
            "Epoch 61/100\n",
            "12/12 [==============================] - 0s 20ms/step - loss: 0.1182 - accuracy: 0.9790 - val_loss: 0.1084 - val_accuracy: 0.9734\n",
            "Epoch 62/100\n",
            "12/12 [==============================] - 0s 16ms/step - loss: 0.1173 - accuracy: 0.9790 - val_loss: 0.1075 - val_accuracy: 0.9734\n",
            "Epoch 63/100\n",
            "12/12 [==============================] - 0s 17ms/step - loss: 0.1164 - accuracy: 0.9790 - val_loss: 0.1066 - val_accuracy: 0.9734\n",
            "Epoch 64/100\n",
            "12/12 [==============================] - 0s 28ms/step - loss: 0.1155 - accuracy: 0.9790 - val_loss: 0.1057 - val_accuracy: 0.9734\n",
            "Epoch 65/100\n",
            "12/12 [==============================] - 0s 19ms/step - loss: 0.1147 - accuracy: 0.9790 - val_loss: 0.1048 - val_accuracy: 0.9734\n",
            "Epoch 66/100\n",
            "12/12 [==============================] - 0s 18ms/step - loss: 0.1138 - accuracy: 0.9790 - val_loss: 0.1040 - val_accuracy: 0.9734\n",
            "Epoch 67/100\n",
            "12/12 [==============================] - 0s 18ms/step - loss: 0.1130 - accuracy: 0.9790 - val_loss: 0.1032 - val_accuracy: 0.9734\n",
            "Epoch 68/100\n",
            "12/12 [==============================] - 0s 21ms/step - loss: 0.1122 - accuracy: 0.9790 - val_loss: 0.1024 - val_accuracy: 0.9734\n",
            "Epoch 69/100\n",
            "12/12 [==============================] - 0s 23ms/step - loss: 0.1115 - accuracy: 0.9816 - val_loss: 0.1017 - val_accuracy: 0.9734\n",
            "Epoch 70/100\n",
            "12/12 [==============================] - 0s 24ms/step - loss: 0.1107 - accuracy: 0.9843 - val_loss: 0.1010 - val_accuracy: 0.9734\n",
            "Epoch 71/100\n",
            "12/12 [==============================] - 0s 20ms/step - loss: 0.1100 - accuracy: 0.9843 - val_loss: 0.1003 - val_accuracy: 0.9734\n",
            "Epoch 72/100\n",
            "12/12 [==============================] - 0s 24ms/step - loss: 0.1093 - accuracy: 0.9843 - val_loss: 0.0996 - val_accuracy: 0.9734\n",
            "Epoch 73/100\n",
            "12/12 [==============================] - 0s 15ms/step - loss: 0.1086 - accuracy: 0.9843 - val_loss: 0.0989 - val_accuracy: 0.9734\n",
            "Epoch 74/100\n",
            "12/12 [==============================] - 0s 20ms/step - loss: 0.1080 - accuracy: 0.9843 - val_loss: 0.0982 - val_accuracy: 0.9734\n",
            "Epoch 75/100\n",
            "12/12 [==============================] - 0s 19ms/step - loss: 0.1072 - accuracy: 0.9843 - val_loss: 0.0975 - val_accuracy: 0.9734\n",
            "Epoch 76/100\n",
            "12/12 [==============================] - 0s 19ms/step - loss: 0.1066 - accuracy: 0.9843 - val_loss: 0.0969 - val_accuracy: 0.9734\n",
            "Epoch 77/100\n",
            "12/12 [==============================] - 0s 24ms/step - loss: 0.1060 - accuracy: 0.9843 - val_loss: 0.0962 - val_accuracy: 0.9734\n",
            "Epoch 78/100\n",
            "12/12 [==============================] - 0s 19ms/step - loss: 0.1054 - accuracy: 0.9843 - val_loss: 0.0957 - val_accuracy: 0.9734\n",
            "Epoch 79/100\n",
            "12/12 [==============================] - 0s 17ms/step - loss: 0.1048 - accuracy: 0.9843 - val_loss: 0.0951 - val_accuracy: 0.9734\n",
            "Epoch 80/100\n",
            "12/12 [==============================] - 0s 19ms/step - loss: 0.1042 - accuracy: 0.9843 - val_loss: 0.0945 - val_accuracy: 0.9734\n",
            "Epoch 81/100\n",
            "12/12 [==============================] - 0s 21ms/step - loss: 0.1036 - accuracy: 0.9843 - val_loss: 0.0939 - val_accuracy: 0.9734\n",
            "Epoch 82/100\n",
            "12/12 [==============================] - 0s 18ms/step - loss: 0.1031 - accuracy: 0.9843 - val_loss: 0.0934 - val_accuracy: 0.9787\n",
            "Epoch 83/100\n",
            "12/12 [==============================] - 0s 19ms/step - loss: 0.1025 - accuracy: 0.9843 - val_loss: 0.0928 - val_accuracy: 0.9787\n",
            "Epoch 84/100\n",
            "12/12 [==============================] - 0s 18ms/step - loss: 0.1020 - accuracy: 0.9843 - val_loss: 0.0922 - val_accuracy: 0.9787\n",
            "Epoch 85/100\n",
            "12/12 [==============================] - 0s 15ms/step - loss: 0.1015 - accuracy: 0.9843 - val_loss: 0.0918 - val_accuracy: 0.9787\n",
            "Epoch 86/100\n",
            "12/12 [==============================] - 0s 25ms/step - loss: 0.1009 - accuracy: 0.9843 - val_loss: 0.0912 - val_accuracy: 0.9787\n",
            "Epoch 87/100\n",
            "12/12 [==============================] - 0s 19ms/step - loss: 0.1004 - accuracy: 0.9843 - val_loss: 0.0907 - val_accuracy: 0.9787\n",
            "Epoch 88/100\n",
            "12/12 [==============================] - 0s 20ms/step - loss: 0.0999 - accuracy: 0.9843 - val_loss: 0.0903 - val_accuracy: 0.9787\n",
            "Epoch 89/100\n",
            "12/12 [==============================] - 0s 17ms/step - loss: 0.0995 - accuracy: 0.9843 - val_loss: 0.0898 - val_accuracy: 0.9787\n",
            "Epoch 90/100\n",
            "12/12 [==============================] - 0s 18ms/step - loss: 0.0990 - accuracy: 0.9843 - val_loss: 0.0893 - val_accuracy: 0.9787\n",
            "Epoch 91/100\n",
            "12/12 [==============================] - 0s 16ms/step - loss: 0.0985 - accuracy: 0.9843 - val_loss: 0.0888 - val_accuracy: 0.9787\n",
            "Epoch 92/100\n",
            "12/12 [==============================] - 0s 24ms/step - loss: 0.0981 - accuracy: 0.9843 - val_loss: 0.0884 - val_accuracy: 0.9787\n",
            "Epoch 93/100\n",
            "12/12 [==============================] - 0s 21ms/step - loss: 0.0977 - accuracy: 0.9843 - val_loss: 0.0878 - val_accuracy: 0.9787\n",
            "Epoch 94/100\n",
            "12/12 [==============================] - 0s 15ms/step - loss: 0.0972 - accuracy: 0.9843 - val_loss: 0.0875 - val_accuracy: 0.9787\n",
            "Epoch 95/100\n",
            "12/12 [==============================] - 0s 13ms/step - loss: 0.0968 - accuracy: 0.9843 - val_loss: 0.0869 - val_accuracy: 0.9787\n",
            "Epoch 96/100\n",
            "12/12 [==============================] - 0s 25ms/step - loss: 0.0964 - accuracy: 0.9843 - val_loss: 0.0866 - val_accuracy: 0.9787\n",
            "Epoch 97/100\n",
            "12/12 [==============================] - 0s 22ms/step - loss: 0.0959 - accuracy: 0.9843 - val_loss: 0.0862 - val_accuracy: 0.9787\n",
            "Epoch 98/100\n",
            "12/12 [==============================] - 0s 16ms/step - loss: 0.0955 - accuracy: 0.9843 - val_loss: 0.0858 - val_accuracy: 0.9787\n",
            "Epoch 99/100\n",
            "12/12 [==============================] - 0s 18ms/step - loss: 0.0951 - accuracy: 0.9843 - val_loss: 0.0854 - val_accuracy: 0.9787\n",
            "Epoch 100/100\n",
            "12/12 [==============================] - 0s 21ms/step - loss: 0.0947 - accuracy: 0.9843 - val_loss: 0.0849 - val_accuracy: 0.9787\n"
          ]
        }
      ]
    },
    {
      "cell_type": "code",
      "source": [
        "print(\"Train Score :\",model.evaluate(X_train,y_train))\n",
        "print(\"Test Score :\",model.evaluate(X_test,y_test))"
      ],
      "metadata": {
        "colab": {
          "base_uri": "https://localhost:8080/"
        },
        "id": "wpW_NxSNOTsr",
        "outputId": "7f98f450-6386-43cc-de46-b4abd76abf12"
      },
      "execution_count": null,
      "outputs": [
        {
          "output_type": "stream",
          "name": "stdout",
          "text": [
            "12/12 [==============================] - 0s 8ms/step - loss: 0.0945 - accuracy: 0.9843\n",
            "Train Score : [0.0944911539554596, 0.9842519760131836]\n",
            "6/6 [==============================] - 0s 3ms/step - loss: 0.0849 - accuracy: 0.9787\n",
            "Test Score : [0.08494724333286285, 0.978723406791687]\n"
          ]
        }
      ]
    },
    {
      "cell_type": "code",
      "source": [
        "import matplotlib.pyplot as plt\n",
        "plt.plot(r.history['loss'],label='loss')\n",
        "plt.plot(r.history['val_loss'],label='val_loss')\n",
        "plt.legend();"
      ],
      "metadata": {
        "colab": {
          "base_uri": "https://localhost:8080/",
          "height": 265
        },
        "id": "CmCjge5NOwn9",
        "outputId": "6e4b990a-64dc-42e0-eb78-5c4df3ea01fc"
      },
      "execution_count": null,
      "outputs": [
        {
          "output_type": "display_data",
          "data": {
            "text/plain": [
              "<Figure size 432x288 with 1 Axes>"
            ],
            "image/png": "[encoded data removed]"
          },
          "metadata": {
            "needs_background": "light"
          }
        }
      ]
    },
    {
      "cell_type": "code",
      "source": [
        "plt.plot(r.history['accuracy'],label='acc')\n",
        "plt.plot(r.history['val_accuracy'],label='val_acc')\n",
        "plt.legend();"
      ],
      "metadata": {
        "colab": {
          "base_uri": "https://localhost:8080/",
          "height": 268
        },
        "id": "rvIJN9rNPR1t",
        "outputId": "2d67d789-4fa2-4660-a50e-ead059f4ab05"
      },
      "execution_count": null,
      "outputs": [
        {
          "output_type": "display_data",
          "data": {
            "text/plain": [
              "<Figure size 432x288 with 1 Axes>"
            ],
            "image/png": "[encoded data removed]"
          },
          "metadata": {
            "needs_background": "light"
          }
        }
      ]
    },
    {
      "cell_type": "markdown",
      "source": [
        "## Part 2"
      ],
      "metadata": {
        "id": "z7KPa0psTTb4"
      }
    },
    {
      "cell_type": "code",
      "source": [
        "P=model.predict(X_test)\n",
        "print(P)"
      ],
      "metadata": {
        "colab": {
          "base_uri": "https://localhost:8080/"
        },
        "id": "u7aHWPxdTVpc",
        "outputId": "dab92ac0-8ff4-4272-bcae-449f13de57ec"
      },
      "execution_count": null,
      "outputs": [
        {
          "output_type": "stream",
          "name": "stdout",
          "text": [
            "6/6 [==============================] - 0s 5ms/step\n",
            "[[9.84337032e-01]\n",
            " [2.06469795e-05]\n",
            " [7.48177767e-01]\n",
            " [9.93638992e-01]\n",
            " [7.68954515e-01]\n",
            " [9.21082973e-01]\n",
            " [4.70145680e-02]\n",
            " [9.26789582e-01]\n",
            " [9.02896896e-02]\n",
            " [9.89297628e-01]\n",
            " [2.95602367e-04]\n",
            " [9.96683896e-01]\n",
            " [9.11616147e-01]\n",
            " [9.99490023e-01]\n",
            " [9.76702332e-01]\n",
            " [9.98231888e-01]\n",
            " [8.11814010e-01]\n",
            " [9.83821094e-01]\n",
            " [9.62767482e-01]\n",
            " [9.89981711e-01]\n",
            " [8.97639632e-01]\n",
            " [8.05785298e-01]\n",
            " [9.91781890e-01]\n",
            " [9.08862174e-01]\n",
            " [9.41375474e-05]\n",
            " [9.48637486e-01]\n",
            " [9.90540087e-01]\n",
            " [9.82847452e-01]\n",
            " [9.98576939e-01]\n",
            " [9.98588622e-01]\n",
            " [2.91879434e-04]\n",
            " [9.86514628e-01]\n",
            " [9.77842748e-01]\n",
            " [9.89182770e-01]\n",
            " [9.95842159e-01]\n",
            " [9.97750700e-01]\n",
            " [9.45198099e-06]\n",
            " [9.87379014e-01]\n",
            " [3.43667604e-02]\n",
            " [9.90666807e-01]\n",
            " [8.17419775e-03]\n",
            " [9.38415706e-01]\n",
            " [8.01926490e-06]\n",
            " [9.96679425e-01]\n",
            " [6.60319477e-02]\n",
            " [8.23946655e-01]\n",
            " [3.36017199e-02]\n",
            " [9.85607028e-01]\n",
            " [9.99840915e-01]\n",
            " [2.71470381e-05]\n",
            " [9.72681522e-01]\n",
            " [9.95410025e-01]\n",
            " [9.96903062e-01]\n",
            " [7.43085206e-01]\n",
            " [9.98231292e-01]\n",
            " [2.43609771e-04]\n",
            " [9.90825653e-01]\n",
            " [1.12764792e-04]\n",
            " [9.75828409e-01]\n",
            " [6.55682385e-02]\n",
            " [9.58899021e-01]\n",
            " [9.31064963e-01]\n",
            " [9.98692036e-01]\n",
            " [9.37683165e-01]\n",
            " [9.74090815e-01]\n",
            " [9.94621694e-01]\n",
            " [4.04481471e-01]\n",
            " [6.46795332e-03]\n",
            " [1.89355651e-05]\n",
            " [9.76975977e-01]\n",
            " [1.71866670e-01]\n",
            " [9.95529354e-01]\n",
            " [9.60449159e-01]\n",
            " [9.87359643e-01]\n",
            " [7.62108147e-01]\n",
            " [9.95203197e-01]\n",
            " [1.41083542e-13]\n",
            " [9.81004059e-01]\n",
            " [9.99074101e-01]\n",
            " [1.26155317e-02]\n",
            " [9.98788834e-01]\n",
            " [9.99031484e-01]\n",
            " [9.90121603e-01]\n",
            " [9.71946955e-01]\n",
            " [7.69948363e-01]\n",
            " [4.77690902e-03]\n",
            " [2.51714624e-02]\n",
            " [8.01987946e-01]\n",
            " [9.99027014e-01]\n",
            " [9.91736710e-01]\n",
            " [2.39310026e-01]\n",
            " [4.35531512e-03]\n",
            " [9.98410583e-01]\n",
            " [3.45318869e-04]\n",
            " [5.35679270e-08]\n",
            " [5.39596425e-03]\n",
            " [9.39674079e-01]\n",
            " [6.68280125e-02]\n",
            " [1.62370861e-01]\n",
            " [9.31248963e-01]\n",
            " [6.23382986e-01]\n",
            " [1.47897089e-02]\n",
            " [8.89718115e-01]\n",
            " [9.91287529e-01]\n",
            " [9.81394231e-01]\n",
            " [4.73394036e-01]\n",
            " [4.40553049e-05]\n",
            " [9.93132114e-01]\n",
            " [9.90686893e-01]\n",
            " [8.49077165e-01]\n",
            " [9.84929442e-01]\n",
            " [2.52995902e-04]\n",
            " [1.37710189e-02]\n",
            " [3.26790325e-02]\n",
            " [9.93787706e-01]\n",
            " [7.00828314e-01]\n",
            " [9.98727977e-01]\n",
            " [9.96713817e-01]\n",
            " [5.93345646e-07]\n",
            " [8.65630150e-01]\n",
            " [9.89935815e-01]\n",
            " [9.23079193e-01]\n",
            " [9.94622707e-01]\n",
            " [3.01759522e-02]\n",
            " [9.44060206e-01]\n",
            " [9.98135030e-01]\n",
            " [4.96090837e-02]\n",
            " [8.47754069e-03]\n",
            " [1.47649795e-02]\n",
            " [7.77554214e-06]\n",
            " [1.09899370e-02]\n",
            " [9.53171313e-01]\n",
            " [7.51963973e-01]\n",
            " [7.65726507e-01]\n",
            " [2.19425070e-03]\n",
            " [9.98883367e-01]\n",
            " [9.98352230e-01]\n",
            " [2.81164736e-01]\n",
            " [5.79110980e-02]\n",
            " [2.64254143e-03]\n",
            " [9.99779582e-01]\n",
            " [9.72040892e-01]\n",
            " [2.59559184e-01]\n",
            " [9.92225647e-01]\n",
            " [8.45145404e-01]\n",
            " [9.25076008e-01]\n",
            " [6.21765435e-01]\n",
            " [9.48477209e-01]\n",
            " [8.62060547e-01]\n",
            " [5.86670940e-04]\n",
            " [4.94946689e-05]\n",
            " [7.57378221e-01]\n",
            " [9.90760028e-01]\n",
            " [9.99913216e-01]\n",
            " [1.12707421e-01]\n",
            " [7.72238135e-01]\n",
            " [1.21849373e-01]\n",
            " [1.07189237e-07]\n",
            " [9.96019363e-01]\n",
            " [9.75220919e-01]\n",
            " [9.54204559e-01]\n",
            " [9.98908043e-01]\n",
            " [3.35659310e-02]\n",
            " [2.73132864e-05]\n",
            " [1.82173010e-02]\n",
            " [4.58644867e-01]\n",
            " [9.96164262e-01]\n",
            " [1.23229079e-01]\n",
            " [1.28135679e-03]\n",
            " [2.46864860e-03]\n",
            " [9.88249421e-01]\n",
            " [2.35289941e-03]\n",
            " [4.89506777e-03]\n",
            " [9.46579754e-01]\n",
            " [9.18139338e-01]\n",
            " [9.58056450e-01]\n",
            " [8.97686541e-01]\n",
            " [5.68618634e-06]\n",
            " [1.24105973e-05]\n",
            " [9.95368659e-01]\n",
            " [9.92106199e-01]\n",
            " [9.95704591e-01]\n",
            " [6.14940980e-03]\n",
            " [9.99314308e-01]\n",
            " [9.86679018e-01]\n",
            " [9.94099319e-01]\n",
            " [9.99439240e-01]\n",
            " [4.08174694e-01]]\n"
          ]
        }
      ]
    },
    {
      "cell_type": "code",
      "source": [
        "import numpy as np\n",
        "P=np.round(P).flatten()\n",
        "print(P)"
      ],
      "metadata": {
        "colab": {
          "base_uri": "https://localhost:8080/"
        },
        "id": "Y3POOBveT4PH",
        "outputId": "59d6c328-350b-4160-d2df-f0f8dad14aa8"
      },
      "execution_count": null,
      "outputs": [
        {
          "output_type": "stream",
          "name": "stdout",
          "text": [
            "[1. 0. 1. 1. 1. 1. 0. 1. 0. 1. 0. 1. 1. 1. 1. 1. 1. 1. 1. 1. 1. 1. 1. 1.\n",
            " 0. 1. 1. 1. 1. 1. 0. 1. 1. 1. 1. 1. 0. 1. 0. 1. 0. 1. 0. 1. 0. 1. 0. 1.\n",
            " 1. 0. 1. 1. 1. 1. 1. 0. 1. 0. 1. 0. 1. 1. 1. 1. 1. 1. 0. 0. 0. 1. 0. 1.\n",
            " 1. 1. 1. 1. 0. 1. 1. 0. 1. 1. 1. 1. 1. 0. 0. 1. 1. 1. 0. 0. 1. 0. 0. 0.\n",
            " 1. 0. 0. 1. 1. 0. 1. 1. 1. 0. 0. 1. 1. 1. 1. 0. 0. 0. 1. 1. 1. 1. 0. 1.\n",
            " 1. 1. 1. 0. 1. 1. 0. 0. 0. 0. 0. 1. 1. 1. 0. 1. 1. 0. 0. 0. 1. 1. 0. 1.\n",
            " 1. 1. 1. 1. 1. 0. 0. 1. 1. 1. 0. 1. 0. 0. 1. 1. 1. 1. 0. 0. 0. 0. 1. 0.\n",
            " 0. 0. 1. 0. 0. 1. 1. 1. 1. 0. 0. 1. 1. 1. 0. 1. 1. 1. 1. 0.]\n"
          ]
        }
      ]
    },
    {
      "cell_type": "code",
      "source": [
        "print('Manually calculated accuracy ',np.mean(P==y_test))\n",
        "print('Evaluated accuracy ',model.evaluate(X_test,y_test))"
      ],
      "metadata": {
        "colab": {
          "base_uri": "https://localhost:8080/"
        },
        "id": "nYKzJaMyUAXZ",
        "outputId": "056c7296-8959-4495-ba02-448d343fb6af"
      },
      "execution_count": null,
      "outputs": [
        {
          "output_type": "stream",
          "name": "stdout",
          "text": [
            "Manually calculated accuracy  0.9787234042553191\n",
            "6/6 [==============================] - 0s 7ms/step - loss: 0.0849 - accuracy: 0.9787\n",
            "Evaluated accuracy  [0.08494724333286285, 0.978723406791687]\n"
          ]
        }
      ]
    },
    {
      "cell_type": "markdown",
      "source": [
        "## Part 3"
      ],
      "metadata": {
        "id": "_kSP890-j1Za"
      }
    },
    {
      "cell_type": "code",
      "source": [
        "model.save('linearclassifier.h5')"
      ],
      "metadata": {
        "id": "fOfqz_Lwj2ti"
      },
      "execution_count": null,
      "outputs": []
    },
    {
      "cell_type": "code",
      "source": [
        "!ls -lh"
      ],
      "metadata": {
        "colab": {
          "base_uri": "https://localhost:8080/"
        },
        "id": "nRyBLv9pj_kx",
        "outputId": "2de2372d-f878-48c9-c46b-1f02f7b69343"
      },
      "execution_count": null,
      "outputs": [
        {
          "output_type": "stream",
          "name": "stdout",
          "text": [
            "total 24K\n",
            "-rw-r--r-- 1 root root  19K Jan 23 16:58 linearclassifier.h5\n",
            "drwxr-xr-x 1 root root 4.0K Jan 19 14:35 sample_data\n"
          ]
        }
      ]
    },
    {
      "cell_type": "code",
      "source": [
        "model=tf.keras.models.load_model('linearclassifier.h5')\n",
        "print(model.layers)\n",
        "model.evaluate(X_test,y_test)"
      ],
      "metadata": {
        "colab": {
          "base_uri": "https://localhost:8080/"
        },
        "id": "9LV2FkJ3kBzx",
        "outputId": "b218f5fe-18e4-42ec-bf39-a3f16ec56724"
      },
      "execution_count": null,
      "outputs": [
        {
          "output_type": "stream",
          "name": "stdout",
          "text": [
            "[<keras.layers.core.dense.Dense object at 0x7fd3bd81c790>]\n",
            "6/6 [==============================] - 0s 3ms/step - loss: 0.0849 - accuracy: 0.9787\n"
          ]
        },
        {
          "output_type": "execute_result",
          "data": {
            "text/plain": [
              "[0.08494724333286285, 0.978723406791687]"
            ]
          },
          "metadata": {},
          "execution_count": 32
        }
      ]
    }
  ]
}