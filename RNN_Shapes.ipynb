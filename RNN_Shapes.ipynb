{
  "nbformat": 4,
  "nbformat_minor": 0,
  "metadata": {
    "colab": {
      "provenance": [],
      "authorship_tag": "ABX9TyNh48+/5S79uNefAbEjx2KQ",
      "include_colab_link": true
    },
    "kernelspec": {
      "name": "python3",
      "display_name": "Python 3"
    },
    "language_info": {
      "name": "python"
    }
  },
  "cells": [
    {
      "cell_type": "markdown",
      "metadata": {
        "id": "view-in-github",
        "colab_type": "text"
      },
      "source": [
        "<a href=\"https://colab.research.google.com/github/tusharbansal22/Tensorflow-Notebooks/blob/main/RNN_Shapes.ipynb\" target=\"_parent\"><img src=\"https://colab.research.google.com/assets/colab-badge.svg\" alt=\"Open In Colab\"/></a>"
      ]
    },
    {
      "cell_type": "code",
      "execution_count": 1,
      "metadata": {
        "colab": {
          "base_uri": "https://localhost:8080/"
        },
        "id": "S-nVGsGmnn5G",
        "outputId": "e0cee9fd-e769-4a9d-ed49-5ed1f83ae584"
      },
      "outputs": [
        {
          "output_type": "stream",
          "name": "stdout",
          "text": [
            "2.9.2\n"
          ]
        }
      ],
      "source": [
        "import tensorflow as tf\n",
        "print(tf.__version__)"
      ]
    },
    {
      "cell_type": "code",
      "source": [
        "from tensorflow.keras.layers import Input, SimpleRNN,Dense,Flatten\n",
        "from tensorflow.keras.models import Model\n",
        "from tensorflow.keras.optimizers import SGD,Adam\n",
        "\n",
        "import numpy as np\n",
        "import pandas as pd\n",
        "import matplotlib.pyplot as plt\n"
      ],
      "metadata": {
        "id": "NlofbRz6ns_X"
      },
      "execution_count": 2,
      "outputs": []
    },
    {
      "cell_type": "code",
      "source": [
        "N=1\n",
        "T=10\n",
        "D=3\n",
        "K=2\n",
        "X=np.random.randn(N,T,D)"
      ],
      "metadata": {
        "id": "80t4qN7ZoCl7"
      },
      "execution_count": 3,
      "outputs": []
    },
    {
      "cell_type": "code",
      "source": [
        "M=5\n",
        "i=Input(shape=(T,D))\n",
        "x=SimpleRNN(M)(i)\n",
        "x=Dense(K)(x)\n",
        "\n",
        "model=Model(i,x)"
      ],
      "metadata": {
        "id": "i5QsSDHZodzK"
      },
      "execution_count": 4,
      "outputs": []
    },
    {
      "cell_type": "code",
      "source": [
        "Yhat=model.predict(X)\n",
        "print(Yhat)"
      ],
      "metadata": {
        "colab": {
          "base_uri": "https://localhost:8080/"
        },
        "id": "SKs69a8MovGI",
        "outputId": "f184dcaf-a9d9-448d-c0ca-f1752ca154b8"
      },
      "execution_count": 5,
      "outputs": [
        {
          "output_type": "stream",
          "name": "stdout",
          "text": [
            "1/1 [==============================] - 0s 267ms/step\n",
            "[[0.4674355 0.7247561]]\n"
          ]
        }
      ]
    },
    {
      "cell_type": "code",
      "source": [
        "model.summary()"
      ],
      "metadata": {
        "colab": {
          "base_uri": "https://localhost:8080/"
        },
        "id": "S9kKIqEZo7eX",
        "outputId": "dc715119-c9fc-4a4e-a832-3c2bb5ba4490"
      },
      "execution_count": 6,
      "outputs": [
        {
          "output_type": "stream",
          "name": "stdout",
          "text": [
            "Model: \"model\"\n",
            "_________________________________________________________________\n",
            " Layer (type)                Output Shape              Param #   \n",
            "=================================================================\n",
            " input_1 (InputLayer)        [(None, 10, 3)]           0         \n",
            "                                                                 \n",
            " simple_rnn (SimpleRNN)      (None, 5)                 45        \n",
            "                                                                 \n",
            " dense (Dense)               (None, 2)                 12        \n",
            "                                                                 \n",
            "=================================================================\n",
            "Total params: 57\n",
            "Trainable params: 57\n",
            "Non-trainable params: 0\n",
            "_________________________________________________________________\n"
          ]
        }
      ]
    },
    {
      "cell_type": "code",
      "source": [
        "model.layers[1].get_weights()"
      ],
      "metadata": {
        "colab": {
          "base_uri": "https://localhost:8080/"
        },
        "id": "WSs6WzVopA1W",
        "outputId": "d1ce5bcc-a190-4308-fe12-abf2091c7bc5"
      },
      "execution_count": 7,
      "outputs": [
        {
          "output_type": "execute_result",
          "data": {
            "text/plain": [
              "[array([[ 0.47998756,  0.05541354,  0.32921344, -0.18436188, -0.2187177 ],\n",
              "        [ 0.71800095,  0.63410145, -0.70122266,  0.8535499 , -0.5118731 ],\n",
              "        [-0.7637111 , -0.62376356, -0.7674349 ,  0.02510691,  0.30702072]],\n",
              "       dtype=float32),\n",
              " array([[ 0.58341134, -0.6377015 ,  0.18079713,  0.23032227,  0.40894014],\n",
              "        [ 0.0474452 , -0.23861119,  0.33476776,  0.4044501 , -0.815576  ],\n",
              "        [-0.5855957 , -0.539912  , -0.52304155,  0.297922  ,  0.05694431],\n",
              "        [-0.5113557 , -0.30633524,  0.6918738 , -0.37571725,  0.15754756],\n",
              "        [-0.23015901,  0.3886581 ,  0.32090643,  0.7439429 ,  0.3735503 ]],\n",
              "       dtype=float32),\n",
              " array([0., 0., 0., 0., 0.], dtype=float32)]"
            ]
          },
          "metadata": {},
          "execution_count": 7
        }
      ]
    },
    {
      "cell_type": "code",
      "source": [
        "a,b,c=model.layers[1].get_weights()\n",
        "print(a.shape,b.shape,c.shape)"
      ],
      "metadata": {
        "colab": {
          "base_uri": "https://localhost:8080/"
        },
        "id": "BINodLbXpG-8",
        "outputId": "9a0cf7fd-7c0a-4c82-e459-6a3585e090ed"
      },
      "execution_count": 9,
      "outputs": [
        {
          "output_type": "stream",
          "name": "stdout",
          "text": [
            "(3, 5) (5, 5) (5,)\n"
          ]
        }
      ]
    },
    {
      "cell_type": "code",
      "source": [
        "Wx,Wh,bh=model.layers[1].get_weights()\n",
        "Wo,bo=model.layers[2].get_weights()"
      ],
      "metadata": {
        "id": "EQUDbngvpQ3w"
      },
      "execution_count": 10,
      "outputs": []
    },
    {
      "cell_type": "code",
      "source": [
        "h_last=np.zeros(M)\n",
        "x=X[0]\n",
        "Yhats=[]\n",
        "\n",
        "for t in range(T):\n",
        "  h=np.tanh(x[t].dot(Wx)+h_last.dot(Wh)+bh)\n",
        "  y=h.dot(Wo)+bo\n",
        "  Yhats.append(y)\n",
        "\n",
        "  h_last=h\n",
        "\n",
        "print(Yhats[-1])"
      ],
      "metadata": {
        "colab": {
          "base_uri": "https://localhost:8080/"
        },
        "id": "n9udOBbOpnFD",
        "outputId": "2e170863-ce56-4ac4-e398-0027eceaba37"
      },
      "execution_count": 11,
      "outputs": [
        {
          "output_type": "stream",
          "name": "stdout",
          "text": [
            "[0.46743558 0.7247562 ]\n"
          ]
        }
      ]
    }
  ]
}